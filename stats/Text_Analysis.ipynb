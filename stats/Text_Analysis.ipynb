{
 "cells": [
  {
   "cell_type": "code",
   "execution_count": 2,
   "metadata": {},
   "outputs": [],
   "source": [
    "import pymysql\n",
    "from numpy.random import choice\n",
    "\n",
    "conn = pymysql.connect(host='127.0.0.1', unix_socket='/tmp/mysql.sock', user='root', passwd='root', db='mysql', charset='utf8')\n",
    "cur = conn.cursor(pymysql.cursors.DictCursor)\n",
    "cur.execute(\"USE jeopardy\")\n",
    "cur.execute(\"SELECT questions.id, questions.clue, questions.answer, categories.name FROM questions JOIN categories ON questions.categoryId = categories.id\")\n",
    "\n",
    "# clue, answer, name\n",
    "questions = cur.fetchall()"
   ]
  },
  {
   "cell_type": "code",
   "execution_count": 3,
   "metadata": {},
   "outputs": [],
   "source": [
    "# Strip clue crew\n",
    "\n",
    "def filterClueCrew(question):\n",
    "    return not 'Clue Crew' in question['clue']\n",
    "\n",
    "questions = list(filter(filterClueCrew, questions))\n"
   ]
  },
  {
   "cell_type": "code",
   "execution_count": 4,
   "metadata": {},
   "outputs": [],
   "source": [
    "stop_words = ['', 's', '\\'s', '\\'t','a','about','above','after','again','against','all','am','an','and','any','are','aren\\'t','as','at','be','because','been','before','being','below','between','both','but','by','can\\'t','cannot','could','couldn\\'t','did','didn\\'t','do','does','doesn\\'t','doing','don\\'t','down','during','each','few','for','from','further','had','hadn\\'t','has','hasn\\'t','have','haven\\'t','having','he','he\\'d','he\\'ll','he\\'s','her','here','here\\'s','hers','herself','him','himself','his','how','how\\'s','i','i\\'d','i\\'ll','i\\'m','i\\'ve','if','in','into','is','isn\\'t','it','it\\'s','its','itself','let\\'s','me','more','most','mustn\\'t','my','myself','no','nor','not','of','off','on','once','only','or','other','ought','our','ours\tourselves','out','over','own','same','shan\\'t','she','she\\'d','she\\'ll','she\\'s','should','shouldn\\'t','so','some','such','than','that','that\\'s','the','their','theirs','them','themselves','then','there','there\\'s','these','they','they\\'d','they\\'ll','they\\'re','they\\'ve','this','those','through','to','too','under','until','up','very','was','wasn\\'t','we','we\\'d','we\\'ll','we\\'re','we\\'ve','were','weren\\'t','what','what\\'s','when','when\\'s','where','where\\'s','which','while','who','who\\'s','whom','why','why\\'s','with','won\\'t','would','wouldn\\'t','you','you\\'d','you\\'ll','you\\'re','you\\'ve','your','yours','yourself','yourselves']\n",
    "def filter_stop(word):\n",
    "    return not word.lower() in stop_words\n",
    "\n",
    "def filter_stop_tagged(word):\n",
    "    return not word[0].lower() in stop_words"
   ]
  },
  {
   "cell_type": "code",
   "execution_count": 5,
   "metadata": {
    "scrolled": false
   },
   "outputs": [],
   "source": [
    "from nltk.tokenize import word_tokenize\n",
    "from nltk import pos_tag\n",
    "from nltk.tokenize import word_tokenize  \n",
    "from string import punctuation\n",
    "\n",
    "punctuation += '“'\n",
    "punctuation += '”'\n",
    "punctuation += '’'\n",
    "punctuation += ' '\n",
    "\n",
    "\n",
    "'''for question in sample_questions[0:20]:\n",
    "    question['text'] = [word.strip(punctuation) for word in (question['name'].lower()+' '+question['clue']+' '+question['answer']).split(' ')]\n",
    "    #question['text'] = filter(filter_stop, question['text'])\n",
    "    question['text'] = word_tokenize(' '.join(question['text']))\n",
    "    question['tokenized'] = pos_tag(question['text'])\n",
    "    question['tokenized'] = list(filter(filter_stop_tagged, question['tokenized']))\n",
    "    question['text'] = list(filter(filter_stop, question['text']))'''\n",
    "\n",
    "for question in questions:\n",
    "    question['text'] = word_tokenize(question['name'].lower()+'. '+question['clue']+'. '+question['answer'])\n",
    "    question['tokenized'] = pos_tag(question['text'])\n"
   ]
  },
  {
   "cell_type": "code",
   "execution_count": 143,
   "metadata": {},
   "outputs": [],
   "source": [
    "# Get all proper nouns as n-grams\n",
    "def get_proper_nouns(question):\n",
    "    proper_nouns = []\n",
    "    proper_noun = []\n",
    "    for token in question['tokenized']:\n",
    "        if token[1] in ['NNP', 'NNPS']:\n",
    "            proper_noun.append(token[0])\n",
    "        else:\n",
    "            if len(proper_noun):\n",
    "                proper_nouns.append(' '.join(proper_noun))\n",
    "                proper_noun = []\n",
    "    if len(proper_noun):\n",
    "        proper_nouns.append(' '.join(proper_noun).lower())\n",
    "    return proper_nouns\n",
    "\n",
    "def get_dates(question):\n",
    "    dates = []\n",
    "    for token in question['tokenized']:\n",
    "        if token[1] == 'CD':\n",
    "            if len(token[0]) == 4:\n",
    "                dates.append(token[0])\n",
    "    return dates\n",
    "\n",
    "# Add proper nouns as n-grams\n",
    "#for question in sample_questions:\n",
    "#    question['text'] += get_proper_nouns(question)\n",
    "\n",
    "# Strip out punctuation, filter stop words\n",
    "#for question in sample_questions:\n",
    "#    question['text'] = [word.strip(punctuation) for word in question['text']]\n",
    "#    question['text'] = list(filter(filter_stop, question['text']))\n",
    "\n",
    "    "
   ]
  },
  {
   "cell_type": "code",
   "execution_count": 70,
   "metadata": {},
   "outputs": [
    {
     "name": "stdout",
     "output_type": "stream",
     "text": [
      "['philosophers', 'country', 'birth', 'Pico', 'Della', 'Mirandola', 'Boethius', 'Italy', 'Pico Della Mirandola', 'Boethius', 'Italy']\n",
      "['cosmetics', '2', 'groups', 'failed', 'attempt', 'reassemble', 'Humpty', 'Dumpty', 'king', 'horses', 'king', 'men', 'Humpty Dumpty', 'Humpty Dumpty']\n",
      "['travel', 'tourism', 'home', 'silk', 'merchant', 'Jim', 'Thompson', 'disappeared', '1967', 'tourist', 'attraction', 'Thai', 'city', 'Bangkok', 'Jim Thompson', 'Thai', 'Bangkok']\n",
      "['space', 'news', '2009', 'NASA', 'named', 'Combined', 'Operational', 'Load', 'Bearing', 'External', 'Resistance', 'Treadmill', 'man', 'Stephen', 'Colbert', 'NASA', 'Combined Operational Load Bearing External Resistance Treadmill', 'Stephen Colbert']\n",
      "['speak', 'devil', 'Book', 'Common', 'Prayer', 'deceits', 'world', 'devil', 'good', 'Lord', 'deliver', 'us', 'flesh', 'Book', 'Common Prayer', 'Lord']\n",
      "['nature', 'study', 'Charlie', 'Parker', 'took', 'instrument', 'new', 'heights', 'playing', 'style', 'jazz', 'helped', 'invent', 'bebop', 'Charlie Parker']\n",
      "['image', 'movie', 'battle', 'scene', \"n't\", 'really', '50,000', 'extras', 'expensive', 'used', 'CGI', 'short', 'computer-generated', 'image', 'computer', 'graphic', 'imaging', 'CGI']\n",
      "['abbrev', 'statue', 'Central', 'Park', 'shows', 'reading', 'Ugly', 'Duckling', 'Hans', 'Christian', 'Andersen', 'Central Park', 'Ugly Duckling', 'Hans', 'Andersen']\n",
      "['quotations', 'Russian', 'empress', 'wrote', 'Voltaire', 'wit', 'makes', 'others', 'witty', 'Catherine', 'Great', 'Voltaire']\n",
      "['wow', 'midwest', '5', 'Great', 'Lakes', 'total', 'number', 'share', 'Canada', '4', 'Great Lakes', 'Canada', 'Great Lakes', 'Canada']\n"
     ]
    }
   ],
   "source": [
    "for question in sample_questions[0:10]:\n",
    "    print(question['text'])"
   ]
  },
  {
   "cell_type": "code",
   "execution_count": 7,
   "metadata": {},
   "outputs": [],
   "source": [
    "#print([tokenize_stem(item) for item in choice(corpus, size=10)])\n",
    "from nltk.stem.snowball import SnowballStemmer\n",
    "stemmer = SnowballStemmer(\"english\")\n",
    "\n",
    "#corpus = [[stemmer.stem(word) for word in question['text']] for question in sample_questions]\n",
    "\n"
   ]
  },
  {
   "cell_type": "code",
   "execution_count": 77,
   "metadata": {},
   "outputs": [
    {
     "name": "stdout",
     "output_type": "stream",
     "text": [
      "['philosoph', 'countri', 'birth', 'pico', 'della', 'mirandola', 'boethius', 'itali', 'pico della mirandola', 'boethius', 'itali']\n",
      "['cosmet', '2', 'group', 'fail', 'attempt', 'reassembl', 'humpti', 'dumpti', 'king', 'hors', 'king', 'men', 'humpty dumpti', 'humpty dumpti']\n",
      "['travel', 'tourism', 'home', 'silk', 'merchant', 'jim', 'thompson', 'disappear', '1967', 'tourist', 'attract', 'thai', 'citi', 'bangkok', 'jim thompson', 'thai', 'bangkok']\n",
      "['space', 'news', '2009', 'nasa', 'name', 'combin', 'oper', 'load', 'bear', 'extern', 'resist', 'treadmil', 'man', 'stephen', 'colbert', 'nasa', 'combined operational load bearing external resistance treadmil', 'stephen colbert']\n",
      "['speak', 'devil', 'book', 'common', 'prayer', 'deceit', 'world', 'devil', 'good', 'lord', 'deliv', 'us', 'flesh', 'book', 'common pray', 'lord']\n",
      "['natur', 'studi', 'charli', 'parker', 'took', 'instrument', 'new', 'height', 'play', 'style', 'jazz', 'help', 'invent', 'bebop', 'charlie park']\n",
      "['imag', 'movi', 'battl', 'scene', \"n't\", 'realli', '50,000', 'extra', 'expens', 'use', 'cgi', 'short', 'computer-gener', 'imag', 'comput', 'graphic', 'imag', 'cgi']\n",
      "['abbrev', 'statu', 'central', 'park', 'show', 'read', 'ugli', 'duckl', 'han', 'christian', 'andersen', 'central park', 'ugly duckl', 'han', 'andersen']\n",
      "['quotat', 'russian', 'empress', 'wrote', 'voltair', 'wit', 'make', 'other', 'witti', 'catherin', 'great', 'voltair']\n",
      "['wow', 'midwest', '5', 'great', 'lake', 'total', 'number', 'share', 'canada', '4', 'great lak', 'canada', 'great lak', 'canada']\n"
     ]
    }
   ],
   "source": [
    "for question in corpus[0:10]:\n",
    "    print(question)"
   ]
  },
  {
   "cell_type": "code",
   "execution_count": 81,
   "metadata": {},
   "outputs": [
    {
     "name": "stdout",
     "output_type": "stream",
     "text": [
      "CPU times: user 185 ms, sys: 18.1 ms, total: 203 ms\n",
      "Wall time: 211 ms\n",
      "(9821, 2231)\n"
     ]
    }
   ],
   "source": [
    "from sklearn.feature_extraction.text import TfidfVectorizer\n",
    "\n",
    "\n",
    "def dummy_func(doc):\n",
    "    return doc\n",
    "# max_df -- word must not be present in greater than 10% of questions\n",
    "# min_df -- word must be present in at least 10 documents\n",
    "tfidf_vectorizer = TfidfVectorizer(max_df=0.05, max_features=200000, min_df=.001,\n",
    "                                   stop_words='english', analyzer='word', tokenizer=dummy_func,\n",
    "                                   preprocessor=dummy_func, token_pattern=None, use_idf=True)\n",
    "\n",
    "%time tfidf_matrix = tfidf_vectorizer.fit_transform(corpus)\n",
    "print(tfidf_matrix.shape)"
   ]
  },
  {
   "cell_type": "code",
   "execution_count": 82,
   "metadata": {},
   "outputs": [
    {
     "name": "stdout",
     "output_type": "stream",
     "text": [
      "['1', '1/2', '10', '10-letter', '100', '101', '11', '12', '13', '14', '15', '15th', '16', '16th', '17', '1776', '17th', '18', '18th', '19', '1901', '1912', '1915', '1917', '1920', '1920s', '1924', '1925', '1926', '1927', '1928', '1929', '1930', '1930s', '1932', '1935', '1936', '1937', '1940', '1942', '1945', '1946', '1947', '1948', '1949', '1950', '1950s', '1951', '1953', '1955', '1957', '1959', '1960', '1960s', '1961', '1962', '1963', '1964', '1965', '1966', '1967', '1968', '1969', '1970', '1970s', '1971', '1972', '1973', '1974', '1975', '1976', '1977', '1978', '1979', '1980', '1980s', '1981', '1982', '1983', '1984', '1985', '1986', '1987', '1988', '1989', '1990', '1990s', '1991', '1992', '1993', '1994', '1995', '1996', '1997', '1998', '1999', '19th', '1st', '2', '2-word', '20', '200', '2000', '2001', '2002', '2003', '2004', '2005', '2006', '2007', '2008', '2009', '2010', '2011', '2012', '2013', '2014', '2015', '2016', '20th', '21', '21st', '22', '23', '24', '25', '26', '27', '28', '3', '3-letter', '30', '31', '3rd', '4', '4-letter', '40', '4th', '5', '5-letter', '50', '500', '50s', '5th', '6', '6-letter', '60', '60s', '7', '70', '70s', '75', '8', '80s', '9', '90s', 'a.d', 'aaron', 'abbey', 'abbrev', 'abbrevi', 'abraham', 'abraham lincoln', 'academi', 'accept', 'accord', 'acid', 'act', 'action', 'activ', 'actor', 'actress', 'actual', 'ad', 'adam', 'adapt', 'add', 'addit', 'address', 'adject', 'administr', 'admir', 'adult', 'advanc', 'adventur', 'advertis', 'advic', 'afraid', 'africa', 'african', 'age', 'agenc', 'agent', 'ago', 'agricultur', 'ai', 'aid', 'air', 'airlin', 'airport', 'aka', 'al', 'alabama', 'alaska', 'albert', 'album', 'alcohol', 'alex', 'alexand', 'alfr', 'alic', 'aliv', 'allen', 'allit', 'allow', 'alma', 'almanac', 'alon', 'alphabet', 'alter', 'alway', 'amazon', 'amend', 'america', 'american', 'americana', 'anagram', 'anatomi', 'ancient', 'andrew', 'angel', 'anim', 'ann', 'anna', 'anniversari', 'announc', 'annual', 'anoth', 'answer', 'anthoni', 'anyth', 'ape', 'apollo', 'apostl', 'appear', 'appl', 'appoint', 'appropri', 'approv', 'april', 'arab', 'architect', 'architectur', 'area', 'argentina', 'arizona', 'arm', 'armi', 'arnold', 'arrang', 'art', 'arthur', 'articl', 'artist', 'ash', 'asia', 'asian', 'ask', 'assassin', 'associ', 'astronom', 'athen', 'athlet', 'atlant', 'atlanta', 'atmospher', 'atom', 'attach', 'attack', 'attempt', 'attend', 'attract', 'august', 'austen', 'australia', 'author', 'autobiographi', 'avenu', 'averag', 'award', 'away', 'b', 'b.c', 'babe', 'babi', 'bad', 'bag', 'ball', 'ballet', 'ban', 'banana', 'band', 'bank', 'bar', 'barri', 'base', 'basebal', 'basic', 'basketbal', 'bat', 'battl', 'battleship', 'bay', 'beach', 'bean', 'bear', 'beast', 'beat', 'beatl', 'beauti', 'becam', 'becom', 'bee', 'beef', 'beer', 'beethoven', 'began', 'begin', 'begun', 'beij', 'believ', 'bell', 'belong', 'ben', 'benjamin', 'berri', 'best', 'bestsel', 'better', 'betti', 'bibl', 'biblic', 'big', 'billi', 'billion', 'biographi', 'biolog', 'bird', 'birth', 'birthday', 'bit', 'black', 'blind', 'block', 'blood', 'blue', 'board', 'boat', 'bob', 'bobbi', 'bodi', 'bomb', 'bond', 'bone', 'book', 'border', 'born', 'boss', 'boston', 'bottl', 'bowl', 'box', 'boy', 'brain', 'branch', 'brand', 'brazil', 'bread', 'break', 'breakfast', 'breath', 'breed', 'bride', 'bridg', 'brief', 'bright', 'bring', 'britain', 'british', 'broad', 'broadway', 'broke', 'brook', 'brooklyn', 'brother', 'brought', 'brown', 'bruce', 'bug', 'build', 'built', 'bull', 'bunch', 'buri', 'burn', 'bush', 'busi', 'butter', 'button', 'buy', 'byron', 'c', 'ca', 'cabinet', 'cabl', 'caesar', 'cake', 'calendar', 'california', 'came', 'camera', 'camp', 'campaign', 'campbel', 'canada', 'canadian', 'canal', 'cancer', 'candi', 'candid', 'cap', 'cape', 'capit', 'captain', 'captur', 'car', 'carbon', 'card', 'care', 'career', 'caribbean', 'carl', 'carlo', 'carol', 'carolina', 'carri', 'carter', 'cartoon', 'carv', 'case', 'casino', 'cast', 'castl', 'cat', 'catch', 'categori', 'cathedr', 'catherin', 'cathol', 'cattl', 'caught', 'caus', 'celebr', 'cell', 'center', 'central', 'centuri', 'cereal', 'ceremoni', 'certain', 'chain', 'chair', 'championship', 'chanc', 'chang', 'channel', 'chapter', 'charact', 'charg', 'charl', 'charli', 'charlott', 'chart', 'chase', 'check', 'chees', 'chemic', 'cherri', 'chess', 'chicago', 'chicken', 'chief', 'child', 'children', 'china', 'chines', 'chip', 'chocol', 'choic', 'choos', 'christian', 'christma', 'christoph', 'chuck', 'church', 'cincinnati', 'cinema', 'circl', 'circus', 'citi', 'citizen', 'civil', 'civil war', 'claim', 'clark', 'class', 'classic', 'clean', 'clear', 'cleveland', 'clich', 'clinton', 'close', 'cloth', 'clown', 'club', 'clue', 'co-star', 'coach', 'coal', 'coast', 'coat', 'cocktail', 'code', 'coffe', 'coin', 'cold', 'collect', 'colleg', 'colombia', 'coloni', 'color', 'colorado', 'columbia', 'combin', 'come', 'comedi', 'comedian', 'comic', 'command', 'commemor', 'commerci', 'commiss', 'common', 'communic', 'communist', 'communiti', 'compani', 'complet', 'compos', 'compound', 'comput', 'concert', 'condit', 'congress', 'connect', 'consid', 'consist', 'constel', 'constitut', 'construct', 'contain', 'contest', 'contin', 'continu', 'control', 'cook', 'cool', 'cop', 'corn', 'corpor', 'correct', 'cosmet', 'council', 'count', 'counti', 'countri', 'coupl', 'cours', 'court', 'cousin', 'cover', 'cow', 'cowboy', 'cream', 'creat', 'creation', 'creator', 'creatur', 'credit', 'crew', 'cri', 'crime', 'crimin', 'critic', 'critter', 'cross', 'crossword', 'crowd', 'crown', 'cruis', 'cuba', 'cuisin', 'cultur', 'cup', 'current', 'cut', 'd', 'd.c', 'da', 'dad', 'daddi', 'daili', 'danc', 'dancer', 'dane', 'danger', 'daniel', 'dark', 'dash', 'date', 'daughter', 'davi', 'david', 'day', 'dead', 'deal', 'dean', 'death', 'debut', 'decad', 'decemb', 'declar', 'decor', 'dedic', 'deep', 'defeat', 'defens', 'degre', 'deliv', 'democrat', 'denmark', 'denni', 'depart', 'depict', 'deposit', 'deriv', 'describ', 'desert', 'design', 'dessert', 'destroy', 'detect', 'develop', 'devic', 'devil', 'devot', 'diamond', 'diana', 'dick', 'dicken', 'dictionari', 'die', 'diet', 'differ', 'dine', 'dip', 'direct', 'director', 'dirti', 'discov', 'discoveri', 'diseas', 'disguis', 'dish', 'disney', 'disord', 'display', 'distanc', 'district', 'divid', 'divis', 'doctor', 'document', 'dodger', 'dog', 'doll', 'don', 'donald', 'door', 'doubl', 'dougla', 'dr', 'dragon', 'drama', 'draw', 'dream', 'dress', 'drew', 'dri', 'drink', 'drive', 'driver', 'drop', 'drug', 'duck', 'duke', 'duo', 'dutch', 'dynasti', 'e', 'eagl', 'ear', 'earli', 'earn', 'earth', 'earthquak', 'easi', 'east', 'eastern', 'eat', 'econom', 'ed', 'eden', 'edg', 'edgar', 'edit', 'educ', 'edward', 'effect', 'egg', 'egypt', 'egyptian', 'eisenhow', 'el', 'elect', 'electr', 'element', 'eleph', 'elizabeth', 'elvi', 'em', 'emmi', 'emperor', 'empir', 'end', 'energi', 'engin', 'england', 'english', 'enjoy', 'enter', 'entertain', 'entir', 'epic', 'episod', 'equal', 'equival', 'ernest', 'error', 'escap', 'especi', 'establish', 'estat', 'etern', 'eugen', 'europ', 'european', 'event', 'everi', 'everyth', 'evil', 'exampl', 'excess', 'execut', 'exist', 'experi', 'explor', 'express', 'extrem', 'eye', 'f', 'fabric', 'face', 'fact', 'fail', 'fair', 'fairi', 'faith', 'fall', 'fame', 'famili', 'familiar', 'famous', 'fan', 'fanci', 'far', 'farm', 'farmer', 'fashion', 'fast', 'fat', 'fatal', 'father', 'favorit', 'fear', 'featur', 'februari', 'feder', 'feed', 'feel', 'feet', 'femal', 'festiv', 'fever', 'fiction', 'field', 'fight', 'figur', 'file', 'film', 'final', 'financi', 'fine', 'finger', 'finish', 'fish', 'fit', 'fitzgerald', 'flag', 'flat', 'flavor', 'fli', 'flight', 'florenc', 'florida', 'flow', 'flower', 'focus', 'folk', 'follow', 'food', 'fool', 'foot', 'footbal', 'forc', 'ford', 'foreign', 'forest', 'forev', 'form', 'fortun', 'fought', 'foundat', 'founder', 'fountain', 'fox', 'franc', 'franci', 'francisco', 'frank', 'franklin', 'frederick', 'free', 'freedom', 'french', 'fri', 'friend', 'frog', 'fruit', 'fun', 'fund', 'funer', 'funni', 'furnitur', 'futur', 'g', 'gain', 'game', 'gangster', 'garden', 'gas', 'gate', 'gather', 'gave', 'gem', 'general', 'generat', 'genesi', 'geograph', 'geographi', 'georg', 'george washington', 'georgia', 'german', 'germani', 'ghost', 'giant', 'gibson', 'gift', 'gin', 'girl', 'given', 'glass', 'god', 'goddess', 'godfath', 'goe', 'gold', 'golden', 'golf', 'gone', 'good', 'got', 'govern', 'governor', 'grace', 'graduat', 'grain', 'grammi', 'grand', 'grant', 'grape', 'grass', 'gray', 'great', 'greatest', 'greec', 'greek', 'green', 'greenland', 'ground', 'group', 'grow', 'guard', 'guid', 'guin', 'gulf', 'gun', 'guy', 'h', 'hail', 'hair', 'half', 'hall', 'ham', 'hamilton', 'hamlet', 'hampshir', 'hand', 'hang', 'hank', 'happen', 'happi', 'hard', 'harri', 'harrison', 'harvard', 'harvey', 'hat', 'hawaii', 'hawaiian', 'hawk', 'head', 'headlin', 'headquart', 'health', 'hear', 'heard', 'heart', 'heat', 'heaven', 'heavi', 'hebrew', 'heel', 'held', 'helen', 'hell', 'hello', 'help', 'hemingway', 'henri', 'herb', 'herbert', 'herman', 'hero', 'hey', 'hi', 'hide', 'high', 'highest', 'highway', 'hill', 'histor', 'histori', 'hit', 'hockey', 'hodgepodg', 'hold', 'hole', 'holi', 'holiday', 'holland', 'hollywood', 'home', 'homophon', 'honor', 'hop', 'hope', 'horn', 'horror', 'hors', 'hospit', 'host', 'hot', 'hotel', 'hour', 'hous', 'houston', 'howard', 'hudson', 'huge', 'hugh', 'human', 'hundr', 'hunt', 'husband', 'ice', 'icon', 'idea', 'identifi', 'ii', 'iii', 'illinoi', 'imag', 'import', 'improv', 'inch', 'includ', 'independ', 'india', 'indian', 'indiana', 'indic', 'industri', 'inform', 'ingredi', 'inhabit', 'initi', 'innoc', 'insect', 'insid', 'inspir', 'instead', 'institut', 'instrument', 'insur', 'intern', 'internet', 'introduc', 'invent', 'inventor', 'involv', 'iowa', 'iran', 'ireland', 'irish', 'iron', 'islam', 'island', 'israel', 'issu', 'itali', 'italian', 'item', 'iv', 'ivan', 'ivi', 'j', 'jack', 'jacki', 'jackson', 'jacob', 'jail', 'jam', 'jame', 'jan', 'jane', 'januari', 'japan', 'japanes', 'jason', 'jaw', 'jay', 'jazz', 'jean', 'jeff', 'jefferson', 'jelli', 'jennif', 'jeopardi', 'jerri', 'jersey', 'jesus', 'jet', 'jewelri', 'jewish', 'jim', 'jimmi', 'jimmy cart', 'joan', 'job', 'joe', 'johann', 'john', 'johnni', 'johnson', 'join', 'joint', 'jonathan', 'jone', 'jordan', 'jose', 'joseph', 'journal', 'joy', 'jr', 'judg', 'juic', 'juli', 'julia', 'juliet', 'julius', 'jump', 'june', 'jupit', 'just', 'justic', 'k', 'kangaroo', 'kansa', 'kelli', 'kennedi', 'kentucki', 'kept', 'kevin', 'key', 'kick', 'kid', 'kiddi', 'kill', 'killer', 'kind', 'king', 'kingdom', 'kiss', 'kitchen', 'knew', 'knight', 'know', 'known', 'l', 'l.a', 'la', 'label', 'labor', 'ladi', 'lake', 'land', 'landmark', 'languag', 'larg', 'largest', 'larri', 'las', 'late', 'later', 'latin', 'launch', 'law', 'lawrenc', 'lay', 'layer', 'le', 'lead', 'leader', 'leagu', 'leap', 'learn', 'leav', 'led', 'lee', 'left', 'leg', 'legal', 'legend', 'length', 'leon', 'leonard', 'let', 'letter', 'level', 'lewi', 'liberti', 'librari', 'licens', 'lie', 'life', 'light', 'like', 'lincoln', 'line', 'link', 'lion', 'lip', 'liquid', 'list', 'lit', 'liter', 'literari', 'literatur', 'littl', 'live', 'liver', 'lizard', 'll', 'lloyd', 'local', 'locat', 'lock', 'logo', 'london', 'long', 'longer', 'longest', 'look', 'lord', 'los', 'los angel', 'lose', 'lost', 'lot', 'lou', 'loui', 'louisiana', 'love', 'lover', 'low', 'lower', 'luck', 'lucki', 'lunch', 'luther', 'lyric', 'm', 'macbeth', 'machin', 'mad', 'madison', 'magazin', 'magic', 'maiden', 'mail', 'main', 'major', 'make', 'maker', 'male', 'mammal', 'man', 'manag', 'manhattan', 'mani', 'map', 'mar', 'march', 'margaret', 'mari', 'maria', 'marilyn', 'marin', 'mark', 'market', 'marri', 'marriag', 'marshal', 'martha', 'martin', 'maryland', 'mascot', 'mass', 'massachusett', 'master', 'match', 'mater', 'materi', 'math', 'matter', 'matthew', 'mayor', 'mean', 'measur', 'meat', 'mechan', 'medal', 'medic', 'medicin', 'mediev', 'mediterranean', 'medium', 'meet', 'mel', 'member', 'memori', 'men', 'mention', 'merchant', 'mess', 'messag', 'met', 'metal', 'meter', 'method', 'metropolitan', 'mexican', 'mexico', 'miami', 'michael', 'michigan', 'middl', 'midnight', 'mike', 'mile', 'militari', 'milk', 'miller', 'million', 'mind', 'miner', 'minist', 'minnesota', 'minut', 'miss', 'mission', 'mississippi', 'missouri', 'mix', 'model', 'modern', 'mom', 'moment', 'monday', 'money', 'monkey', 'monopoli', 'monro', 'monster', 'montana', 'month', 'monument', 'moon', 'moor', 'mormon', 'morn', 'moscow', 'mose', 'mother', 'motion', 'motto', 'mount', 'mountain', 'mous', 'mouth', 'movement', 'movi', 'mr', 'mrs', 'ms', 'murder', 'murphi', 'muscl', 'museum', 'music', 'mysteri', 'myth', 'mythic', 'mytholog', 'n', \"n't\", 'n.i', 'na', 'nanci', 'napoleon', 'narrow', 'nation', 'nativ', 'natur', 'naval', 'navi', 'nba', 'near', 'nebraska', 'neck', 'need', 'neighbor', 'nelson', 'netherland', 'network', 'new', 'new hampshir', 'new jersey', 'new mexico', 'new orlean', 'new york', 'new york c', 'new zealand', 'news', 'newspap', 'nfl', 'nice', 'nicknam', 'night', 'nile', 'nixon', 'nobel', 'nobel pr', 'nomin', 'nonfict', 'normal', 'north', 'north america', 'north carolina', 'northern', 'nose', 'notabl', 'note', 'noth', 'noun', 'novel', 'novemb', 'nuclear', 'number', 'numer', 'nurs', 'nurseri', 'nut', 'nyc', 'o', 'object', 'observ', 'occup', 'occur', 'ocean', 'oct', 'octob', 'odd', 'offer', 'offic', 'offici', 'oh', 'ohio', 'oil', 'oklahoma', 'old', 'older', 'oldest', 'oliv', 'olymp', 'onion', 'onlin', 'open', 'oper', 'opera', 'opposit', 'orang', 'orbit', 'order', 'oregon', 'organ', 'origin', 'orlean', 'oscar', 'outsid', 'owner', 'oxford', 'oz', 'p', 'pacif', 'pack', 'page', 'paid', 'pain', 'paint', 'painter', 'pair', 'palac', 'pan', 'panama', 'paper', 'paradis', 'parent', 'pari', 'park', 'parker', 'parliament', 'parti', 'particl', 'partner', 'pass', 'past', 'pat', 'patent', 'patrick', 'paul', 'pay', 'peac', 'peak', 'peanut', 'pearl', 'pen', 'peninsula', 'penn', 'penni', 'pennsylvania', 'peopl', 'pepper', 'perfect', 'perform', 'perhap', 'period', 'perman', 'persian', 'person', 'pet', 'peter', 'phil', 'philadelphia', 'philippin', 'photo', 'photograph', 'phrase', 'physic', 'piano', 'pick', 'pictur', 'pie', 'piec', 'pig', 'pilot', 'pink', 'pioneer', 'pirat', 'pit', 'pitcher', 'place', 'plain', 'plan', 'plane', 'planet', 'plant', 'plate', 'play', 'player', 'playwright', 'pleas', 'poe', 'poem', 'poet', 'poetri', 'point', 'poison', 'poland', 'pole', 'polic', 'polish', 'polit', 'politician', 'pop', 'pope', 'popul', 'popular', 'port', 'portrait', 'portray', 'posit', 'possess', 'post', 'postal', 'posthum', 'pot', 'potabl', 'potato', 'potent', 'potpourri', 'potter', 'pound', 'power', 'practic', 'preced', 'premier', 'prepar', 'present', 'presid', 'presidenti', 'pretti', 'prevent', 'price', 'priest', 'prime', 'princ', 'princess', 'princip', 'prison', 'privat', 'prize', 'pro', 'probabl', 'problem', 'process', 'produc', 'product', 'profess', 'professor', 'program', 'project', 'promot', 'protect', 'protest', 'prove', 'proverb', 'proverbi', 'provid', 'provinc', 'public', 'publish', 'pud', 'pulitz', 'pull', 'punish', 'purpl', 'push', 'puzzl', 'q', 'quebec', 'queen', 'question', 'quick', 'quit', 'quot', 'quotat', 'r', 'rabbit', 'race', 'radio', 'railroad', 'rain', 'rais', 'ralph', 'ran', 'rang', 'rank', 'rare', 'rate', 'ray', 'reach', 'read', 'readi', 'reagan', 'real', 'realiti', 'realli', 'receiv', 'recent', 'recogn', 'record', 'red', 'refer', 'region', 'regular', 'reign', 'relat', 'releas', 'religi', 'religion', 'remain', 'rememb', 'remov', 'replac', 'report', 'repres', 'republ', 'republican', 'research', 'resembl', 'resid', 'respons', 'rest', 'restaur', 'restor', 'result', 'retail', 'retir', 'return', 'revers', 'review', 'reviv', 'revolut', 'revolutionari', 'rhyme', 'richard', 'ride', 'right', 'ring', 'rio', 'rise', 'river', 'road', 'robert', 'robin', 'robinson', 'robot', 'rock', 'rocket', 'rocki', 'rodent', 'roger', 'role', 'roll', 'roman', 'romant', 'rome', 'romeo', 'room', 'roosevelt', 'root', 'rose', 'ross', 'rough', 'round', 'rout', 'roy', 'royal', 'rubber', 'rule', 'ruler', 'run', 'rush', 'russia', 'russian', 'ruth', 'sad', 'said', 'sail', 'sailor', 'saint', 'salad', 'sale', 'salt', 'sam', 'samuel', 'san', 'san francisco', 'sandwich', 'sang', 'santa', 'sarah', 'sauc', 'save', 'saw', 'say', 'scene', 'school', 'sci-fi', 'scienc', 'scientif', 'scientist', 'score', 'scotland', 'scott', 'scottish', 'scout', 'screen', 'sea', 'seal', 'search', 'season', 'seat', 'seattl', 'second', 'secret', 'secretari', 'section', 'secur', 'seed', 'seen', 'sell', 'senat', 'send', 'sens', 'sent', 'separ', 'sept', 'septemb', 'sequel', 'seri', 'serv', 'servic', 'set', 'settlement', 'seven', 'sever', 'sex', 'shade', 'shadow', 'shake', 'shakespear', 'shakespearean', 'shall', 'shape', 'share', 'shark', 'sharp', 'sheep', 'ship', 'shirley', 'shock', 'shoe', 'shoot', 'shop', 'shore', 'short', 'shot', 'sign', 'silent', 'silver', 'similar', 'simon', 'simpl', 'simpson', 'sinc', 'sing', 'singer', 'singl', 'sir', 'sister', 'sit', 'sitcom', 'site', 'size', 'ski', 'skin', 'sky', 'slang', 'slave', 'sleep', 'slogan', 'small', 'smallest', 'smart', 'smell', 'smith', 'smoke', 'snake', 'snow', 'soap', 'social', 'societi', 'sold', 'soldier', 'solv', 'someon', 'someth', 'sometim', 'son', 'song', 'soon', 'sorri', 'soul', 'sound', 'soup', 'sourc', 'south', 'south africa', 'south america', 'southern', 'soviet', 'space', 'spain', 'spanish', 'speak', 'speaker', 'speci', 'special', 'specif', 'speech', 'speed', 'spell', 'spent', 'spice', 'spirit', 'spoken', 'sport', 'spot', 'spring', 'squar', 'st', 'stadium', 'stage', 'stamp', 'stand', 'standard', 'star', 'start', 'state', 'statement', 'station', 'statu', 'stay', 'step', 'stephen', 'steve', 'stewart', 'stick', 'stock', 'stone', 'stop', 'store', 'stori', 'straight', 'strait', 'strang', 'street', 'string', 'strip', 'strong', 'structur', 'student', 'studi', 'studio', 'stuff', 'stupid', 'style', 'subject', 'substanc', 'subtitl', 'succeed', 'success', 'sugar', 'suggest', 'suit', 'summer', 'sun', 'sunday', 'super', 'suppli', 'support', 'suprem', 'supreme court', 'sure', 'surfac', 'surpris', 'surround', 'surviv', 'susan', 'sweet', 'swiss', 'sword', 'symbol', 'symphoni', 'synonym', 't', 'tabl', 'taken', 'tale', 'talk', 'tall', 'tast', 'tax', 'taylor', 'tea', 'teach', 'teacher', 'team', 'tear', 'tech', 'technolog', 'ted', 'teddi', 'teen', 'teeth', 'televis', 'tell', 'temperatur', 'templ', 'tennesse', 'tenni', 'term', 'territori', 'test', 'testament', 'texa', 'text', 'thank', 'theater', 'theatr', 'theme', 'theori', 'thing', 'think', 'thoma', 'thought', 'thousand', 'thriller', 'throne', 'thumb', 'tide', 'tie', 'tiger', 'tim', 'time', 'tini', 'tip', 'titl', 'today', 'togeth', 'told', 'tom', 'tomato', 'tongu', 'toni', 'tonight', 'took', 'tool', 'total', 'touch', 'tough', 'tour', 'tourism', 'tower', 'town', 'toy', 'track', 'trade', 'trademark', 'tradit', 'trail', 'train', 'translat', 'transport', 'travel', 'treasur', 'treat', 'treati', 'tree', 'tri', 'tribe', 'trilog', 'trip', 'tripl', 'trivia', 'troop', 'tropic', 'troubl', 'true', 'truman', 'trust', 'truth', 'tune', 'turkey', 'turn', 'turner', 'tv', 'twain', 'twice', 'twin', 'twist', 'type', 'u', 'u.', 'u.n', 'u.s.a', 'uncl', 'union', 'unit', 'united st', 'univers', 'unlik', 'upper', 'usa', 'use', 'usual', 'utah', 'v', 'vacat', 'valentin', 'valley', 'valu', 'van', 'varieti', 've', 'vega', 'veget', 'veggi', 'vehicl', 'venic', 'venus', 'verb', 'vers', 'version', 'vessel', 'vice', 'victor', 'victori', 'victoria', 'video', 'vienna', 'vietnam', 'view', 'viii', 'villag', 'villain', 'virginia', 'visit', 'vocabulari', 'voic', 'von', 'vote', 'vowel', 'vs', 'w', 'wait', 'walk', 'wall', 'wallac', 'walter', 'want', 'war', 'warm', 'warn', 'warren', 'washington', 'watch', 'water', 'wave', 'way', 'weapon', 'wear', 'weather', 'web', 'websit', 'webster', 'wed', 'week', 'weigh', 'weight', 'went', 'west', 'western', 'whale', 'wheel', 'white', 'white hous', 'wide', 'wife', 'wild', 'willi', 'william', 'wilson', 'win', 'wind', 'window', 'wine', 'wing', 'winner', 'winter', 'wisconsin', 'wish', 'wit', 'witch', 'wive', 'wo', 'wolf', 'woman', 'women', 'won', 'wonder', 'wood', 'wooden', 'woolf', 'word', 'work', 'worker', 'world', 'world war', 'worm', 'worn', 'worth', 'wrap', 'wright', 'write', 'writer', 'written', 'wrong', 'wrote', 'wwii', 'x', 'y', 'ya', 'yanke', 'year', 'yellow', 'york', 'young', 'youth', 'z', 'zealand', 'zeus', 'zodiac', 'zone', 'zoo', 'zoolog']\n"
     ]
    }
   ],
   "source": [
    "print(tfidf_vectorizer.get_feature_names())"
   ]
  },
  {
   "cell_type": "code",
   "execution_count": 83,
   "metadata": {},
   "outputs": [
    {
     "ename": "TypeError",
     "evalue": "A sparse matrix was passed, but dense data is required. Use X.toarray() to convert to a dense numpy array.",
     "output_type": "error",
     "traceback": [
      "\u001b[0;31m---------------------------------------------------------------------------\u001b[0m",
      "\u001b[0;31mTypeError\u001b[0m                                 Traceback (most recent call last)",
      "\u001b[0;32m<timed eval>\u001b[0m in \u001b[0;36m<module>\u001b[0;34m()\u001b[0m\n",
      "\u001b[0;32m/Library/Frameworks/Python.framework/Versions/3.6/lib/python3.6/site-packages/sklearn/cluster/hierarchical.py\u001b[0m in \u001b[0;36mfit\u001b[0;34m(self, X, y)\u001b[0m\n\u001b[1;32m    694\u001b[0m         \u001b[0mself\u001b[0m\u001b[0;34m\u001b[0m\u001b[0m\n\u001b[1;32m    695\u001b[0m         \"\"\"\n\u001b[0;32m--> 696\u001b[0;31m         \u001b[0mX\u001b[0m \u001b[0;34m=\u001b[0m \u001b[0mcheck_array\u001b[0m\u001b[0;34m(\u001b[0m\u001b[0mX\u001b[0m\u001b[0;34m,\u001b[0m \u001b[0mensure_min_samples\u001b[0m\u001b[0;34m=\u001b[0m\u001b[0;36m2\u001b[0m\u001b[0;34m,\u001b[0m \u001b[0mestimator\u001b[0m\u001b[0;34m=\u001b[0m\u001b[0mself\u001b[0m\u001b[0;34m)\u001b[0m\u001b[0;34m\u001b[0m\u001b[0m\n\u001b[0m\u001b[1;32m    697\u001b[0m         \u001b[0mmemory\u001b[0m \u001b[0;34m=\u001b[0m \u001b[0mcheck_memory\u001b[0m\u001b[0;34m(\u001b[0m\u001b[0mself\u001b[0m\u001b[0;34m.\u001b[0m\u001b[0mmemory\u001b[0m\u001b[0;34m)\u001b[0m\u001b[0;34m\u001b[0m\u001b[0m\n\u001b[1;32m    698\u001b[0m \u001b[0;34m\u001b[0m\u001b[0m\n",
      "\u001b[0;32m/Library/Frameworks/Python.framework/Versions/3.6/lib/python3.6/site-packages/sklearn/utils/validation.py\u001b[0m in \u001b[0;36mcheck_array\u001b[0;34m(array, accept_sparse, dtype, order, copy, force_all_finite, ensure_2d, allow_nd, ensure_min_samples, ensure_min_features, warn_on_dtype, estimator)\u001b[0m\n\u001b[1;32m    429\u001b[0m     \u001b[0;32mif\u001b[0m \u001b[0msp\u001b[0m\u001b[0;34m.\u001b[0m\u001b[0missparse\u001b[0m\u001b[0;34m(\u001b[0m\u001b[0marray\u001b[0m\u001b[0;34m)\u001b[0m\u001b[0;34m:\u001b[0m\u001b[0;34m\u001b[0m\u001b[0m\n\u001b[1;32m    430\u001b[0m         array = _ensure_sparse_format(array, accept_sparse, dtype, copy,\n\u001b[0;32m--> 431\u001b[0;31m                                       force_all_finite)\n\u001b[0m\u001b[1;32m    432\u001b[0m     \u001b[0;32melse\u001b[0m\u001b[0;34m:\u001b[0m\u001b[0;34m\u001b[0m\u001b[0m\n\u001b[1;32m    433\u001b[0m         \u001b[0marray\u001b[0m \u001b[0;34m=\u001b[0m \u001b[0mnp\u001b[0m\u001b[0;34m.\u001b[0m\u001b[0marray\u001b[0m\u001b[0;34m(\u001b[0m\u001b[0marray\u001b[0m\u001b[0;34m,\u001b[0m \u001b[0mdtype\u001b[0m\u001b[0;34m=\u001b[0m\u001b[0mdtype\u001b[0m\u001b[0;34m,\u001b[0m \u001b[0morder\u001b[0m\u001b[0;34m=\u001b[0m\u001b[0morder\u001b[0m\u001b[0;34m,\u001b[0m \u001b[0mcopy\u001b[0m\u001b[0;34m=\u001b[0m\u001b[0mcopy\u001b[0m\u001b[0;34m)\u001b[0m\u001b[0;34m\u001b[0m\u001b[0m\n",
      "\u001b[0;32m/Library/Frameworks/Python.framework/Versions/3.6/lib/python3.6/site-packages/sklearn/utils/validation.py\u001b[0m in \u001b[0;36m_ensure_sparse_format\u001b[0;34m(spmatrix, accept_sparse, dtype, copy, force_all_finite)\u001b[0m\n\u001b[1;32m    273\u001b[0m \u001b[0;34m\u001b[0m\u001b[0m\n\u001b[1;32m    274\u001b[0m     \u001b[0;32mif\u001b[0m \u001b[0maccept_sparse\u001b[0m \u001b[0;32mis\u001b[0m \u001b[0;32mFalse\u001b[0m\u001b[0;34m:\u001b[0m\u001b[0;34m\u001b[0m\u001b[0m\n\u001b[0;32m--> 275\u001b[0;31m         raise TypeError('A sparse matrix was passed, but dense '\n\u001b[0m\u001b[1;32m    276\u001b[0m                         \u001b[0;34m'data is required. Use X.toarray() to '\u001b[0m\u001b[0;34m\u001b[0m\u001b[0m\n\u001b[1;32m    277\u001b[0m                         'convert to a dense numpy array.')\n",
      "\u001b[0;31mTypeError\u001b[0m: A sparse matrix was passed, but dense data is required. Use X.toarray() to convert to a dense numpy array."
     ]
    },
    {
     "ename": "AttributeError",
     "evalue": "'AgglomerativeClustering' object has no attribute 'labels_'",
     "output_type": "error",
     "traceback": [
      "\u001b[0;31m---------------------------------------------------------------------------\u001b[0m",
      "\u001b[0;31mAttributeError\u001b[0m                            Traceback (most recent call last)",
      "\u001b[0;32m<ipython-input-83-d364fb49b278>\u001b[0m in \u001b[0;36m<module>\u001b[0;34m()\u001b[0m\n\u001b[1;32m      5\u001b[0m \u001b[0magg\u001b[0m \u001b[0;34m=\u001b[0m \u001b[0mAgglomerativeClustering\u001b[0m\u001b[0;34m(\u001b[0m\u001b[0mn_clusters\u001b[0m\u001b[0;34m=\u001b[0m\u001b[0mnum_clusters\u001b[0m\u001b[0;34m)\u001b[0m\u001b[0;34m\u001b[0m\u001b[0m\n\u001b[1;32m      6\u001b[0m \u001b[0mget_ipython\u001b[0m\u001b[0;34m(\u001b[0m\u001b[0;34m)\u001b[0m\u001b[0;34m.\u001b[0m\u001b[0mrun_line_magic\u001b[0m\u001b[0;34m(\u001b[0m\u001b[0;34m'time'\u001b[0m\u001b[0;34m,\u001b[0m \u001b[0;34m'agg.fit(tfidf_matrix)'\u001b[0m\u001b[0;34m)\u001b[0m\u001b[0;34m\u001b[0m\u001b[0m\n\u001b[0;32m----> 7\u001b[0;31m \u001b[0mclusters\u001b[0m \u001b[0;34m=\u001b[0m \u001b[0magg\u001b[0m\u001b[0;34m.\u001b[0m\u001b[0mlabels_\u001b[0m\u001b[0;34m.\u001b[0m\u001b[0mtolist\u001b[0m\u001b[0;34m(\u001b[0m\u001b[0;34m)\u001b[0m\u001b[0;34m\u001b[0m\u001b[0m\n\u001b[0m",
      "\u001b[0;31mAttributeError\u001b[0m: 'AgglomerativeClustering' object has no attribute 'labels_'"
     ]
    }
   ],
   "source": [
    "from sklearn.cluster import AgglomerativeClustering\n",
    "\n",
    "num_clusters = 20\n",
    "\n",
    "agg = AgglomerativeClustering(n_clusters=num_clusters)\n",
    "%time agg.fit(tfidf_matrix)\n",
    "clusters = agg.labels_.tolist()"
   ]
  },
  {
   "cell_type": "code",
   "execution_count": 89,
   "metadata": {},
   "outputs": [
    {
     "name": "stdout",
     "output_type": "stream",
     "text": [
      "CPU times: user 15 s, sys: 50 ms, total: 15 s\n",
      "Wall time: 15.2 s\n"
     ]
    }
   ],
   "source": [
    "from sklearn.cluster import KMeans\n",
    "\n",
    "num_clusters = 100\n",
    "\n",
    "km = KMeans(n_clusters=num_clusters)\n",
    "\n",
    "%time km.fit(tfidf_matrix)\n",
    "\n",
    "clusters = km.labels_.tolist()"
   ]
  },
  {
   "cell_type": "code",
   "execution_count": 90,
   "metadata": {},
   "outputs": [],
   "source": [
    "from collections import defaultdict\n",
    "clustered_clues = defaultdict(lambda: [])\n",
    "for i, cluster in enumerate(clusters):\n",
    "    clustered_clues[cluster].append(sample_questions[i])\n",
    "    "
   ]
  },
  {
   "cell_type": "code",
   "execution_count": 92,
   "metadata": {},
   "outputs": [
    {
     "name": "stdout",
     "output_type": "stream",
     "text": [
      "38\n",
      "56\n",
      "139\n",
      "29\n",
      "92\n",
      "87\n",
      "63\n",
      "85\n",
      "47\n",
      "126\n",
      "141\n",
      "92\n",
      "76\n",
      "73\n",
      "68\n",
      "124\n",
      "50\n",
      "37\n",
      "36\n",
      "82\n",
      "94\n",
      "58\n",
      "111\n",
      "107\n",
      "55\n",
      "144\n",
      "123\n",
      "84\n",
      "141\n",
      "28\n",
      "42\n",
      "191\n",
      "63\n",
      "2295\n",
      "141\n",
      "141\n",
      "163\n",
      "120\n",
      "91\n",
      "139\n",
      "72\n",
      "34\n",
      "93\n",
      "28\n",
      "67\n",
      "42\n",
      "68\n",
      "58\n",
      "108\n",
      "47\n",
      "60\n",
      "113\n",
      "73\n",
      "28\n",
      "164\n",
      "59\n",
      "75\n",
      "43\n",
      "23\n",
      "88\n",
      "34\n",
      "73\n",
      "21\n",
      "88\n",
      "107\n",
      "65\n",
      "36\n",
      "160\n",
      "49\n",
      "117\n",
      "130\n",
      "54\n",
      "124\n",
      "44\n",
      "41\n",
      "58\n",
      "53\n",
      "53\n",
      "38\n",
      "60\n",
      "35\n",
      "73\n",
      "57\n",
      "87\n",
      "71\n",
      "103\n",
      "24\n",
      "136\n",
      "56\n",
      "65\n",
      "41\n",
      "85\n",
      "28\n",
      "31\n",
      "30\n",
      "114\n",
      "39\n",
      "33\n",
      "68\n",
      "25\n",
      "0\n"
     ]
    }
   ],
   "source": [
    "for i in range(0, 101):\n",
    "    print(len(clustered_clues[i]))"
   ]
  },
  {
   "cell_type": "code",
   "execution_count": 93,
   "metadata": {},
   "outputs": [
    {
     "name": "stdout",
     "output_type": "stream",
     "text": [
      "[{'id': 233394, 'clue': 'A non-amateur adolescent, or an important group of organic molecules', 'answer': 'pro teen/protein', 'name': 'AROUND THE KNESSET', 'text': ['around', 'knesset', 'non-amateur', 'adolescent', 'important', 'group', 'organic', 'molecules', 'pro', 'teen/protein'], 'tokenized': [('around', 'IN'), ('the', 'DT'), ('knesset', 'NN'), ('.', '.'), ('A', 'DT'), ('non-amateur', 'JJ'), ('adolescent', 'NN'), (',', ','), ('or', 'CC'), ('an', 'DT'), ('important', 'JJ'), ('group', 'NN'), ('of', 'IN'), ('organic', 'JJ'), ('molecules', 'NNS'), ('.', '.'), ('pro', 'JJ'), ('teen/protein', 'NN')]}, {'id': 98318, 'clue': 'This \"holely\" British sculptor had 2 large works named \"Family Group\", one a bronze, the other done in stone', 'answer': 'Henry Moore', 'name': 'DOWN TO EARTH', 'text': ['earth', 'holely', 'British', 'sculptor', '2', 'large', 'works', 'named', 'Family', 'Group', 'one', 'bronze', 'done', 'stone', 'Henry', 'Moore', 'Family Group', 'Henry Moore'], 'tokenized': [('down', 'RB'), ('to', 'TO'), ('earth', 'VB'), ('.', '.'), ('This', 'DT'), ('``', '``'), ('holely', 'RB'), (\"''\", \"''\"), ('British', 'JJ'), ('sculptor', 'NN'), ('had', 'VBD'), ('2', 'CD'), ('large', 'JJ'), ('works', 'NNS'), ('named', 'VBN'), ('``', '``'), ('Family', 'NNP'), ('Group', 'NNP'), (\"''\", \"''\"), (',', ','), ('one', 'CD'), ('a', 'DT'), ('bronze', 'NN'), (',', ','), ('the', 'DT'), ('other', 'JJ'), ('done', 'VBN'), ('in', 'IN'), ('stone', 'NN'), ('.', '.'), ('Henry', 'NNP'), ('Moore', 'NNP')]}, {'id': 87171, 'clue': 'The Mexican pop group Kabah took the name of this language created in 1887 as the title of its 1998 CD', 'answer': 'Esperanto', 'name': 'THE USA TODAY', 'text': ['usa', 'today', 'Mexican', 'pop', 'group', 'Kabah', 'took', 'name', 'language', 'created', '1887', 'title', '1998', 'CD', 'Esperanto', 'Kabah'], 'tokenized': [('the', 'DT'), ('usa', 'JJ'), ('today', 'NN'), ('.', '.'), ('The', 'DT'), ('Mexican', 'JJ'), ('pop', 'NN'), ('group', 'NN'), ('Kabah', 'NNP'), ('took', 'VBD'), ('the', 'DT'), ('name', 'NN'), ('of', 'IN'), ('this', 'DT'), ('language', 'NN'), ('created', 'VBD'), ('in', 'IN'), ('1887', 'CD'), ('as', 'IN'), ('the', 'DT'), ('title', 'NN'), ('of', 'IN'), ('its', 'PRP$'), ('1998', 'CD'), ('CD', 'NN'), ('.', '.'), ('Esperanto', 'VB')]}, {'id': 121750, 'clue': 'Psalm 37 says that after this group inherits the earth, they shall delight themselves in the abundance of peace', 'answer': 'meek', 'name': 'HISTORIC NICKNAMES', 'text': ['historic', 'nicknames', 'Psalm', '37', 'says', 'group', 'inherits', 'earth', 'shall', 'delight', 'abundance', 'peace', 'meek', 'Psalm', 'Psalm'], 'tokenized': [('historic', 'JJ'), ('nicknames', 'NNS'), ('.', '.'), ('Psalm', 'NNP'), ('37', 'CD'), ('says', 'VBZ'), ('that', 'IN'), ('after', 'IN'), ('this', 'DT'), ('group', 'NN'), ('inherits', 'VBZ'), ('the', 'DT'), ('earth', 'NN'), (',', ','), ('they', 'PRP'), ('shall', 'MD'), ('delight', 'VB'), ('themselves', 'PRP'), ('in', 'IN'), ('the', 'DT'), ('abundance', 'NN'), ('of', 'IN'), ('peace', 'NN'), ('.', '.'), ('meek', 'NN')]}, {'id': 229727, 'clue': 'A permanent legislative group in Congress that meets regularly', 'answer': 'a standing committee', 'name': \"HERE'S ANDERSON COOPER\", 'text': ['anderson', 'cooper', 'permanent', 'legislative', 'group', 'Congress', 'meets', 'regularly', 'standing', 'committee', 'Congress'], 'tokenized': [('here', 'RB'), (\"'s\", 'POS'), ('anderson', 'JJ'), ('cooper', 'NN'), ('.', '.'), ('A', 'DT'), ('permanent', 'JJ'), ('legislative', 'JJ'), ('group', 'NN'), ('in', 'IN'), ('Congress', 'NNP'), ('that', 'WDT'), ('meets', 'VBZ'), ('regularly', 'RB'), ('.', '.'), ('a', 'DT'), ('standing', 'NN'), ('committee', 'NN')]}, {'id': 293254, 'clue': 'In \"Monty Python\\'s Life of Brian\", this blessed group is misheard as \"the cheesemakers\"', 'answer': 'the peacemakers', 'name': 'MARK TWAIN', 'text': ['mark', 'twain', 'Monty', 'Python', 'Life', 'Brian', 'blessed', 'group', 'misheard', 'cheesemakers', 'peacemakers', 'Monty Python', 'Life', 'Brian'], 'tokenized': [('mark', 'NN'), ('twain', 'NN'), ('.', '.'), ('In', 'IN'), ('``', '``'), ('Monty', 'NNP'), ('Python', 'NNP'), (\"'s\", 'POS'), ('Life', 'NNP'), ('of', 'IN'), ('Brian', 'NNP'), (\"''\", \"''\"), (',', ','), ('this', 'DT'), ('blessed', 'VBN'), ('group', 'NN'), ('is', 'VBZ'), ('misheard', 'RB'), ('as', 'IN'), ('``', '``'), ('the', 'DT'), ('cheesemakers', 'NNS'), (\"''\", \"''\"), ('.', '.'), ('the', 'DT'), ('peacemakers', 'NNS')]}, {'id': 39865, 'clue': \"Smells like this Seattle group was Spin Magazine's Artist of the Year for 1992\", 'answer': 'Nirvana', 'name': 'POP & ROCK MUSIC', 'text': ['pop', 'rock', 'music', 'Smells', 'like', 'Seattle', 'group', 'Spin', 'Magazine', 'Artist', 'Year', '1992', 'Nirvana', 'Seattle', 'Spin Magazine', 'Artist'], 'tokenized': [('pop', 'NN'), ('&', 'CC'), ('rock', 'NN'), ('music', 'NN'), ('.', '.'), ('Smells', 'VBZ'), ('like', 'IN'), ('this', 'DT'), ('Seattle', 'NNP'), ('group', 'NN'), ('was', 'VBD'), ('Spin', 'NNP'), ('Magazine', 'NNP'), (\"'s\", 'POS'), ('Artist', 'NNP'), ('of', 'IN'), ('the', 'DT'), ('Year', 'NN'), ('for', 'IN'), ('1992', 'CD'), ('.', '.'), ('Nirvana', 'CC')]}, {'id': 166627, 'clue': 'Poet Charles Baudelarie said, \"Il faut epater\", or \"You must shock\", this social group', 'answer': 'the bourgeoisie', 'name': 'SEARCH DOG FOUNDATION', 'text': ['search', 'dog', 'foundation', 'Poet', 'Charles', 'Baudelarie', 'said', 'Il', 'faut', 'epater', 'must', 'shock', 'social', 'group', 'bourgeoisie', 'Poet Charles Baudelarie', 'Il'], 'tokenized': [('search', 'NN'), ('dog', 'NN'), ('foundation', 'NN'), ('.', '.'), ('Poet', 'NNP'), ('Charles', 'NNP'), ('Baudelarie', 'NNP'), ('said', 'VBD'), (',', ','), ('``', '``'), ('Il', 'NNP'), ('faut', 'NN'), ('epater', 'NN'), (\"''\", \"''\"), (',', ','), ('or', 'CC'), ('``', '``'), ('You', 'PRP'), ('must', 'MD'), ('shock', 'VB'), (\"''\", \"''\"), (',', ','), ('this', 'DT'), ('social', 'JJ'), ('group', 'NN'), ('.', '.'), ('the', 'DT'), ('bourgeoisie', 'NN')]}, {'id': 290594, 'clue': 'A group of ninjas fight using a style of martial art called Spinjitzu in this line from Lego', 'answer': 'Ninjago', 'name': 'TOY STORY', 'text': ['toy', 'story', 'group', 'ninjas', 'fight', 'using', 'style', 'martial', 'art', 'called', 'Spinjitzu', 'line', 'Lego', 'Ninjago', 'Spinjitzu', 'Lego', 'Ninjago'], 'tokenized': [('toy', 'JJ'), ('story', 'NN'), ('.', '.'), ('A', 'DT'), ('group', 'NN'), ('of', 'IN'), ('ninjas', 'JJ'), ('fight', 'NN'), ('using', 'VBG'), ('a', 'DT'), ('style', 'NN'), ('of', 'IN'), ('martial', 'JJ'), ('art', 'NN'), ('called', 'VBN'), ('Spinjitzu', 'NNP'), ('in', 'IN'), ('this', 'DT'), ('line', 'NN'), ('from', 'IN'), ('Lego', 'NNP'), ('.', '.'), ('Ninjago', 'NNP')]}, {'id': 123629, 'clue': 'This group heard here gets its name from a hockey penalty\"I\\'m more than a bird /I\\'m more than a plane /I\\'m more than some pretty face /Beside a train\"', 'answer': 'Five for Fighting', 'name': 'POP MUSIC', 'text': ['pop', 'music', 'group', 'heard', 'gets', 'name', 'hockey', 'penalty', 'm', 'bird', 'm', 'plane', 'm', 'pretty', 'face', 'Beside', 'train', 'Five', 'Fighting'], 'tokenized': [('pop', 'NN'), ('music', 'NN'), ('.', '.'), ('This', 'DT'), ('group', 'NN'), ('heard', 'VBD'), ('here', 'RB'), ('gets', 'VBZ'), ('its', 'PRP$'), ('name', 'NN'), ('from', 'IN'), ('a', 'DT'), ('hockey', 'NN'), ('penalty', 'NN'), (\"''\", \"''\"), ('I', 'PRP'), (\"'m\", 'VBP'), ('more', 'JJR'), ('than', 'IN'), ('a', 'DT'), ('bird', 'NN'), ('/I', 'NN'), (\"'m\", 'VBP'), ('more', 'JJR'), ('than', 'IN'), ('a', 'DT'), ('plane', 'NN'), ('/I', 'NN'), (\"'m\", 'VBP'), ('more', 'JJR'), ('than', 'IN'), ('some', 'DT'), ('pretty', 'JJ'), ('face', 'NN'), ('/Beside', 'IN'), ('a', 'DT'), ('train', 'NN'), (\"''\", \"''\"), ('.', '.'), ('Five', 'CD'), ('for', 'IN'), ('Fighting', 'VBG')]}, {'id': 346283, 'clue': 'In an experiment, the group used for comparison is called this', 'answer': 'control', 'name': 'SCIENCE VOCABULARY', 'text': ['science', 'vocabulary', 'experiment', 'group', 'used', 'comparison', 'called', 'control'], 'tokenized': [('science', 'NN'), ('vocabulary', 'NN'), ('.', '.'), ('In', 'IN'), ('an', 'DT'), ('experiment', 'NN'), (',', ','), ('the', 'DT'), ('group', 'NN'), ('used', 'VBD'), ('for', 'IN'), ('comparison', 'NN'), ('is', 'VBZ'), ('called', 'VBN'), ('this', 'DT'), ('.', '.'), ('control', 'NN')]}, {'id': 291237, 'clue': 'Type of \"organization\" that encompasses a number of smaller groups', 'answer': 'umbrella', 'name': 'STUDENT AID', 'text': ['student', 'aid', 'Type', 'organization', 'encompasses', 'number', 'smaller', 'groups', 'umbrella'], 'tokenized': [('student', 'NN'), ('aid', 'NN'), ('.', '.'), ('Type', 'NN'), ('of', 'IN'), ('``', '``'), ('organization', 'NN'), (\"''\", \"''\"), ('that', 'WDT'), ('encompasses', 'VBZ'), ('a', 'DT'), ('number', 'NN'), ('of', 'IN'), ('smaller', 'JJR'), ('groups', 'NNS'), ('.', '.'), ('umbrella', 'NN')]}, {'id': 294890, 'clue': 'Really gnarly, or a group of 12 dozen', 'answer': 'gross', 'name': 'THINGS', 'text': ['things', 'Really', 'gnarly', 'group', '12', 'dozen', 'gross'], 'tokenized': [('things', 'NNS'), ('.', '.'), ('Really', 'RB'), ('gnarly', 'JJ'), (',', ','), ('or', 'CC'), ('a', 'DT'), ('group', 'NN'), ('of', 'IN'), ('12', 'CD'), ('dozen', 'NN'), ('.', '.'), ('gross', 'JJ')]}, {'id': 24996, 'clue': 'Ace Frehley, Paul Stanley, Gene Simmons & Peter Criss formed this rock group', 'answer': 'KISS', 'name': 'ROCK GROUPS', 'text': ['rock', 'groups', 'Ace', 'Frehley', 'Paul', 'Stanley', 'Gene', 'Simmons', 'Peter', 'Criss', 'formed', 'rock', 'group', 'KISS', 'Ace Frehley', 'Paul Stanley', 'Gene Simmons', 'Peter Criss', 'KISS'], 'tokenized': [('rock', 'NN'), ('groups', 'NNS'), ('.', '.'), ('Ace', 'NNP'), ('Frehley', 'NNP'), (',', ','), ('Paul', 'NNP'), ('Stanley', 'NNP'), (',', ','), ('Gene', 'NNP'), ('Simmons', 'NNP'), ('&', 'CC'), ('Peter', 'NNP'), ('Criss', 'NNP'), ('formed', 'VBD'), ('this', 'DT'), ('rock', 'NN'), ('group', 'NN'), ('.', '.'), ('KISS', 'NNP')]}, {'id': 252462, 'clue': \"Necrolatry is the worship of this group who don't get around much anymore\", 'answer': 'the dead', 'name': '\"D\" BRIEFING', 'text': ['d', 'briefing', 'Necrolatry', 'worship', 'group', \"n't\", 'get', 'around', 'much', 'anymore', 'dead'], 'tokenized': [('``', '``'), ('d', 'NN'), (\"''\", \"''\"), ('briefing', 'NN'), ('.', '.'), ('Necrolatry', 'NN'), ('is', 'VBZ'), ('the', 'DT'), ('worship', 'NN'), ('of', 'IN'), ('this', 'DT'), ('group', 'NN'), ('who', 'WP'), ('do', 'VBP'), (\"n't\", 'RB'), ('get', 'VB'), ('around', 'RB'), ('much', 'RB'), ('anymore', 'RB'), ('.', '.'), ('the', 'DT'), ('dead', 'JJ')]}, {'id': 295891, 'clue': \"Truces between Israel & this group that runs Gaza & intends Israel's destruction are often called fragile\", 'answer': 'Hamas', 'name': 'FRAGILE', 'text': ['fragile', 'Truces', 'Israel', 'group', 'runs', 'Gaza', 'intends', 'Israel', 'destruction', 'often', 'called', 'fragile', 'Hamas', 'Israel', 'Gaza', 'Israel', 'Hamas'], 'tokenized': [('fragile', 'NN'), ('.', '.'), ('Truces', 'NNS'), ('between', 'IN'), ('Israel', 'NNP'), ('&', 'CC'), ('this', 'DT'), ('group', 'NN'), ('that', 'WDT'), ('runs', 'VBZ'), ('Gaza', 'NNP'), ('&', 'CC'), ('intends', 'VBZ'), ('Israel', 'NNP'), (\"'s\", 'POS'), ('destruction', 'NN'), ('are', 'VBP'), ('often', 'RB'), ('called', 'VBN'), ('fragile', 'NN'), ('.', '.'), ('Hamas', 'NNP')]}, {'id': 79561, 'clue': '1993\\'s best alternative music album Grammy went to this group\\'s \"Zooropa\"', 'answer': 'U2', 'name': 'KNOW YOUR EARTH', 'text': ['know', 'earth', '1993', 'best', 'alternative', 'music', 'album', 'Grammy', 'went', 'group', 'Zooropa', 'U2', 'Grammy', 'Zooropa'], 'tokenized': [('know', 'VB'), ('your', 'PRP$'), ('earth', 'NN'), ('.', '.'), ('1993', 'CD'), (\"'s\", 'POS'), ('best', 'RBS'), ('alternative', 'JJ'), ('music', 'NN'), ('album', 'NN'), ('Grammy', 'NNP'), ('went', 'VBD'), ('to', 'TO'), ('this', 'DT'), ('group', 'NN'), (\"'s\", 'POS'), ('``', '``'), ('Zooropa', 'NNP'), (\"''\", \"''\"), ('.', '.'), ('U2', 'VB')]}, {'id': 108217, 'clue': 'This basic pitch is also the name of the group with the 1998 hit \"The Way\"', 'answer': 'Fastball', 'name': 'PITCHES', 'text': ['pitches', 'basic', 'pitch', 'also', 'name', 'group', '1998', 'hit', 'Way', 'Fastball', 'Way'], 'tokenized': [('pitches', 'NNS'), ('.', '.'), ('This', 'DT'), ('basic', 'JJ'), ('pitch', 'NN'), ('is', 'VBZ'), ('also', 'RB'), ('the', 'DT'), ('name', 'NN'), ('of', 'IN'), ('the', 'DT'), ('group', 'NN'), ('with', 'IN'), ('the', 'DT'), ('1998', 'CD'), ('hit', 'NN'), ('``', '``'), ('The', 'DT'), ('Way', 'NNP'), (\"''\", \"''\"), ('.', '.'), ('Fastball', 'NN')]}, {'id': 53712, 'clue': 'This British group\\'s 1979 album \"The Wall\" included the hit single \"Another Brick in the Wall\"', 'answer': 'Pink Floyd', 'name': 'POP MUSIC', 'text': ['pop', 'music', 'British', 'group', '1979', 'album', 'Wall', 'included', 'hit', 'single', 'Another', 'Brick', 'Wall', 'Pink', 'Floyd', 'Wall', 'Brick', 'Wall', 'Pink Floyd'], 'tokenized': [('pop', 'NN'), ('music', 'NN'), ('.', '.'), ('This', 'DT'), ('British', 'JJ'), ('group', 'NN'), (\"'s\", 'POS'), ('1979', 'CD'), ('album', 'NN'), ('``', '``'), ('The', 'DT'), ('Wall', 'NNP'), (\"''\", \"''\"), ('included', 'VBD'), ('the', 'DT'), ('hit', 'NN'), ('single', 'JJ'), ('``', '``'), ('Another', 'DT'), ('Brick', 'NNP'), ('in', 'IN'), ('the', 'DT'), ('Wall', 'NNP'), (\"''\", \"''\"), ('.', '.'), ('Pink', 'NNP'), ('Floyd', 'NNP')]}, {'id': 121750, 'clue': 'Psalm 37 says that after this group inherits the earth, they shall delight themselves in the abundance of peace', 'answer': 'meek', 'name': 'HISTORIC NICKNAMES', 'text': ['historic', 'nicknames', 'Psalm', '37', 'says', 'group', 'inherits', 'earth', 'shall', 'delight', 'abundance', 'peace', 'meek', 'Psalm', 'Psalm'], 'tokenized': [('historic', 'JJ'), ('nicknames', 'NNS'), ('.', '.'), ('Psalm', 'NNP'), ('37', 'CD'), ('says', 'VBZ'), ('that', 'IN'), ('after', 'IN'), ('this', 'DT'), ('group', 'NN'), ('inherits', 'VBZ'), ('the', 'DT'), ('earth', 'NN'), (',', ','), ('they', 'PRP'), ('shall', 'MD'), ('delight', 'VB'), ('themselves', 'PRP'), ('in', 'IN'), ('the', 'DT'), ('abundance', 'NN'), ('of', 'IN'), ('peace', 'NN'), ('.', '.'), ('meek', 'NN')]}, {'id': 208229, 'clue': \"Doctors' group:AMA\", 'answer': 'the American Medical Association', 'name': 'AN ABBREV. CATEG.', 'text': ['abbrev', 'categ', 'Doctors', 'group', 'AMA', 'American', 'Medical', 'Association', 'Doctors', 'AMA', 'American Medical Association'], 'tokenized': [('an', 'DT'), ('abbrev', 'NN'), ('.', '.'), ('categ..', 'NN'), ('Doctors', 'NNP'), (\"'\", 'POS'), ('group', 'NN'), (':', ':'), ('AMA', 'NNP'), ('.', '.'), ('the', 'DT'), ('American', 'NNP'), ('Medical', 'NNP'), ('Association', 'NNP')]}, {'id': 246424, 'clue': \"In society it's denying one's identity to be accepted by another group; in sports it's done by Jay Cutler\", 'answer': 'passing', 'name': 'SOCIAL SCIENCE', 'text': ['social', 'science', 'society', 'denying', 'one', 'identity', 'accepted', 'another', 'group', 'sports', 'done', 'Jay', 'Cutler', 'passing', 'Jay Cutler'], 'tokenized': [('social', 'JJ'), ('science', 'NN'), ('.', '.'), ('In', 'IN'), ('society', 'NN'), ('it', 'PRP'), (\"'s\", 'VBZ'), ('denying', 'VBG'), ('one', 'CD'), (\"'s\", 'POS'), ('identity', 'NN'), ('to', 'TO'), ('be', 'VB'), ('accepted', 'VBN'), ('by', 'IN'), ('another', 'DT'), ('group', 'NN'), (';', ':'), ('in', 'IN'), ('sports', 'NNS'), ('it', 'PRP'), (\"'s\", 'VBZ'), ('done', 'VBN'), ('by', 'IN'), ('Jay', 'NNP'), ('Cutler', 'NNP'), ('.', '.'), ('passing', 'NN')]}, {'id': 176043, 'clue': 'Basic obedience training makes a dog comfortable, because he sees you as the leader of this group', 'answer': 'a pack', 'name': 'PETS', 'text': ['pets', 'Basic', 'obedience', 'training', 'makes', 'dog', 'comfortable', 'sees', 'leader', 'group', 'pack'], 'tokenized': [('pets', 'NNS'), ('.', '.'), ('Basic', 'JJ'), ('obedience', 'NN'), ('training', 'NN'), ('makes', 'VBZ'), ('a', 'DT'), ('dog', 'NN'), ('comfortable', 'NN'), (',', ','), ('because', 'IN'), ('he', 'PRP'), ('sees', 'VBZ'), ('you', 'PRP'), ('as', 'IN'), ('the', 'DT'), ('leader', 'NN'), ('of', 'IN'), ('this', 'DT'), ('group', 'NN'), ('.', '.'), ('a', 'DT'), ('pack', 'NN')]}, {'id': 239372, 'clue': 'Thiamin is the first of this vitamin group', 'answer': 'B', 'name': 'ALSO A U.S. STATE', 'text': ['also', 'u.s', 'state', 'Thiamin', 'first', 'vitamin', 'group', 'B', 'Thiamin', 'B'], 'tokenized': [('also', 'RB'), ('a', 'DT'), ('u.s.', 'JJ'), ('state', 'NN'), ('.', '.'), ('Thiamin', 'NNP'), ('is', 'VBZ'), ('the', 'DT'), ('first', 'JJ'), ('of', 'IN'), ('this', 'DT'), ('vitamin', 'NN'), ('group', 'NN'), ('.', '.'), ('B', 'NNP')]}, {'id': 162470, 'clue': 'In 1975 the Khmer Rouge came to power in Cambodia & the left-wing group with this Laotian name took over in Laos', 'answer': 'Pathet Lao', 'name': 'DINOSAURS', 'text': ['dinosaurs', '1975', 'Khmer', 'Rouge', 'came', 'power', 'Cambodia', 'left-wing', 'group', 'Laotian', 'name', 'took', 'Laos', 'Pathet', 'Lao', 'Khmer Rouge', 'Cambodia', 'Laos', 'Pathet Lao'], 'tokenized': [('dinosaurs', 'NNS'), ('.', '.'), ('In', 'IN'), ('1975', 'CD'), ('the', 'DT'), ('Khmer', 'NNP'), ('Rouge', 'NNP'), ('came', 'VBD'), ('to', 'TO'), ('power', 'NN'), ('in', 'IN'), ('Cambodia', 'NNP'), ('&', 'CC'), ('the', 'DT'), ('left-wing', 'JJ'), ('group', 'NN'), ('with', 'IN'), ('this', 'DT'), ('Laotian', 'JJ'), ('name', 'NN'), ('took', 'VBD'), ('over', 'RP'), ('in', 'IN'), ('Laos', 'NNP'), ('.', '.'), ('Pathet', 'NNP'), ('Lao', 'NNP')]}, {'id': 333957, 'clue': \"I wouldn't mind sitting like other members of this group, but I guess nobody made me take up the xylophone\", 'answer': 'the orchestra', 'name': 'STANDING \"O\"', 'text': ['standing', 'o', \"n't\", 'mind', 'sitting', 'like', 'members', 'group', 'guess', 'nobody', 'made', 'take', 'xylophone', 'orchestra'], 'tokenized': [('standing', 'VBG'), ('``', '``'), ('o', 'JJ'), (\"''\", \"''\"), ('.', '.'), ('I', 'PRP'), ('would', 'MD'), (\"n't\", 'RB'), ('mind', 'VB'), ('sitting', 'VBG'), ('like', 'IN'), ('other', 'JJ'), ('members', 'NNS'), ('of', 'IN'), ('this', 'DT'), ('group', 'NN'), (',', ','), ('but', 'CC'), ('I', 'PRP'), ('guess', 'VBP'), ('nobody', 'NN'), ('made', 'VBD'), ('me', 'PRP'), ('take', 'VB'), ('up', 'RP'), ('the', 'DT'), ('xylophone', 'NN'), ('.', '.'), ('the', 'DT'), ('orchestra', 'NN')]}, {'id': 168222, 'clue': 'Paintings in Herculaneum portray this group of 9 mythic female inspirers showing off their attributes', 'answer': 'the muses', 'name': 'TO THE NINES', 'text': ['nines', 'Paintings', 'Herculaneum', 'portray', 'group', '9', 'mythic', 'female', 'inspirers', 'showing', 'attributes', 'muses', 'Herculaneum'], 'tokenized': [('to', 'TO'), ('the', 'DT'), ('nines', 'NNS'), ('.', '.'), ('Paintings', 'NNS'), ('in', 'IN'), ('Herculaneum', 'NNP'), ('portray', 'NN'), ('this', 'DT'), ('group', 'NN'), ('of', 'IN'), ('9', 'CD'), ('mythic', 'JJ'), ('female', 'NN'), ('inspirers', 'NNS'), ('showing', 'VBG'), ('off', 'RP'), ('their', 'PRP$'), ('attributes', 'NNS'), ('.', '.'), ('the', 'DT'), ('muses', 'NNS')]}, {'id': 140329, 'clue': 'In the 9 orders of angels, this group that includes Michael ranks second-lowest', 'answer': 'Archangels', 'name': 'ABBREV.', 'text': ['abbrev', '9', 'orders', 'angels', 'group', 'includes', 'Michael', 'ranks', 'second-lowest', 'Archangels', 'Michael'], 'tokenized': [('abbrev..', 'NN'), ('In', 'IN'), ('the', 'DT'), ('9', 'CD'), ('orders', 'NNS'), ('of', 'IN'), ('angels', 'NNS'), (',', ','), ('this', 'DT'), ('group', 'NN'), ('that', 'WDT'), ('includes', 'VBZ'), ('Michael', 'NNP'), ('ranks', 'VBZ'), ('second-lowest', 'JJS'), ('.', '.'), ('Archangels', 'NNS')]}, {'id': 176574, 'clue': 'Moroccan ruler Moulay Ismail the Bloodthirsty is said to have sired 888 children with this group of 500 women', 'answer': 'a harem', 'name': '\"H-M\"', 'text': ['h-m', 'Moroccan', 'ruler', 'Moulay', 'Ismail', 'Bloodthirsty', 'said', 'sired', '888', 'children', 'group', '500', 'women', 'harem', 'Moroccan', 'Moulay Ismail', 'Bloodthirsty'], 'tokenized': [('``', '``'), ('h-m', 'NN'), (\"''\", \"''\"), ('.', '.'), ('Moroccan', 'NNP'), ('ruler', 'NN'), ('Moulay', 'NNP'), ('Ismail', 'NNP'), ('the', 'DT'), ('Bloodthirsty', 'NNP'), ('is', 'VBZ'), ('said', 'VBD'), ('to', 'TO'), ('have', 'VB'), ('sired', 'VBN'), ('888', 'CD'), ('children', 'NNS'), ('with', 'IN'), ('this', 'DT'), ('group', 'NN'), ('of', 'IN'), ('500', 'CD'), ('women', 'NNS'), ('.', '.'), ('a', 'DT'), ('harem', 'NN')]}, {'id': 223061, 'clue': \"It's the 12-letter word for an assembly of people who worship together at a temple or church\", 'answer': 'a congregation', 'name': \"IT'S A GROUP THING\", 'text': ['group', 'thing', '12-letter', 'word', 'assembly', 'people', 'worship', 'together', 'temple', 'church', 'congregation'], 'tokenized': [('it', 'PRP'), (\"'s\", 'VBZ'), ('a', 'DT'), ('group', 'NN'), ('thing', 'NN'), ('.', '.'), ('It', 'PRP'), (\"'s\", 'VBZ'), ('the', 'DT'), ('12-letter', 'JJ'), ('word', 'NN'), ('for', 'IN'), ('an', 'DT'), ('assembly', 'NN'), ('of', 'IN'), ('people', 'NNS'), ('who', 'WP'), ('worship', 'VBP'), ('together', 'RB'), ('at', 'IN'), ('a', 'DT'), ('temple', 'NN'), ('or', 'CC'), ('church', 'NN'), ('.', '.'), ('a', 'DT'), ('congregation', 'NN')]}, {'id': 273368, 'clue': 'On the periodic table, the halogens are located to the left of this group of gases that includes Krypton', 'answer': 'the Noble Gases', 'name': 'SOUTHERNMOST POINTS', 'text': ['southernmost', 'points', 'periodic', 'table', 'halogens', 'located', 'left', 'group', 'gases', 'includes', 'Krypton', 'Noble', 'Gases', 'Krypton'], 'tokenized': [('southernmost', 'NN'), ('points', 'NNS'), ('.', '.'), ('On', 'IN'), ('the', 'DT'), ('periodic', 'JJ'), ('table', 'NN'), (',', ','), ('the', 'DT'), ('halogens', 'NNS'), ('are', 'VBP'), ('located', 'VBN'), ('to', 'TO'), ('the', 'DT'), ('left', 'NN'), ('of', 'IN'), ('this', 'DT'), ('group', 'NN'), ('of', 'IN'), ('gases', 'NNS'), ('that', 'WDT'), ('includes', 'VBZ'), ('Krypton', 'NNP'), ('.', '.'), ('the', 'DT'), ('Noble', 'JJ'), ('Gases', 'NNS')]}, {'id': 250698, 'clue': '1988:\"Look Away\"; a groove from this pop-rock group with an urban name', 'answer': 'Chicago', 'name': 'THE PERFORMER', 'text': ['performer', '1988', 'Look', 'Away', 'groove', 'pop-rock', 'group', 'urban', 'name', 'Chicago', 'Away', 'Chicago'], 'tokenized': [('the', 'DT'), ('performer', 'NN'), ('.', '.'), ('1988', 'CD'), (':', ':'), (\"''\", \"''\"), ('Look', 'VB'), ('Away', 'NNP'), (\"''\", \"''\"), (';', ':'), ('a', 'DT'), ('groove', 'NN'), ('from', 'IN'), ('this', 'DT'), ('pop-rock', 'JJ'), ('group', 'NN'), ('with', 'IN'), ('an', 'DT'), ('urban', 'JJ'), ('name', 'NN'), ('.', '.'), ('Chicago', 'NNP')]}, {'id': 308492, 'clue': 'Spanish for \"to bake in pastry\", these tasty meat pies are usually single-serving turnovers', 'answer': 'empanadas', 'name': 'NOT A POP GROUP, YET A POP GROUP', 'text': ['pop', 'group', 'yet', 'pop', 'group', 'Spanish', 'bake', 'pastry', 'tasty', 'meat', 'pies', 'usually', 'single-serving', 'turnovers', 'empanadas'], 'tokenized': [('not', 'RB'), ('a', 'DT'), ('pop', 'NN'), ('group', 'NN'), (',', ','), ('yet', 'RB'), ('a', 'DT'), ('pop', 'NN'), ('group', 'NN'), ('.', '.'), ('Spanish', 'VB'), ('for', 'IN'), ('``', '``'), ('to', 'TO'), ('bake', 'VB'), ('in', 'IN'), ('pastry', 'NN'), (\"''\", \"''\"), (',', ','), ('these', 'DT'), ('tasty', 'JJ'), ('meat', 'NN'), ('pies', 'NNS'), ('are', 'VBP'), ('usually', 'RB'), ('single-serving', 'JJ'), ('turnovers', 'NNS'), ('.', '.'), ('empanadas', 'VB')]}, {'id': 168388, 'clue': 'In 1974 Paul McCartney formed a new version of this group with drummer Geoff Britton & guitarist Jimmy McCulloch', 'answer': 'Wings', 'name': 'THE 1970s MUSIC SCENE', 'text': ['1970s', 'music', 'scene', '1974', 'Paul', 'McCartney', 'formed', 'new', 'version', 'group', 'drummer', 'Geoff', 'Britton', 'guitarist', 'Jimmy', 'McCulloch', 'Wings', 'Paul McCartney', 'Geoff Britton', 'Jimmy McCulloch'], 'tokenized': [('the', 'DT'), ('1970s', 'CD'), ('music', 'NN'), ('scene', 'NN'), ('.', '.'), ('In', 'IN'), ('1974', 'CD'), ('Paul', 'NNP'), ('McCartney', 'NNP'), ('formed', 'VBD'), ('a', 'DT'), ('new', 'JJ'), ('version', 'NN'), ('of', 'IN'), ('this', 'DT'), ('group', 'NN'), ('with', 'IN'), ('drummer', 'JJR'), ('Geoff', 'NNP'), ('Britton', 'NNP'), ('&', 'CC'), ('guitarist', 'NN'), ('Jimmy', 'NNP'), ('McCulloch', 'NNP'), ('.', '.'), ('Wings', 'NNS')]}, {'id': 341111, 'clue': 'A unit of atomic mass, a dalton is defined as 1/12th the mass of the \"12\" isotope of this element', 'answer': 'carbon', 'name': 'MUSICAL GROUPS', 'text': ['musical', 'groups', 'unit', 'atomic', 'mass', 'dalton', 'defined', '1/12th', 'mass', '12', 'isotope', 'element', 'carbon'], 'tokenized': [('musical', 'JJ'), ('groups', 'NNS'), ('.', '.'), ('A', 'DT'), ('unit', 'NN'), ('of', 'IN'), ('atomic', 'JJ'), ('mass', 'NN'), (',', ','), ('a', 'DT'), ('dalton', 'NN'), ('is', 'VBZ'), ('defined', 'VBN'), ('as', 'IN'), ('1/12th', 'CD'), ('the', 'DT'), ('mass', 'NN'), ('of', 'IN'), ('the', 'DT'), ('``', '``'), ('12', 'CD'), (\"''\", \"''\"), ('isotope', 'NN'), ('of', 'IN'), ('this', 'DT'), ('element', 'NN'), ('.', '.'), ('carbon', 'NN')]}, {'id': 78139, 'clue': \"Group heard here in a hit from the '80s:\", 'answer': 'The Moody Blues (\"Gemini Dreams\")', 'name': 'THE \"BLUES\"', 'text': ['blues', 'Group', 'heard', 'hit', '80s', 'Moody', 'Blues', 'Gemini', 'Dreams', 'Group', 'Moody Blues', 'Gemini Dreams'], 'tokenized': [('the', 'DT'), ('``', '``'), ('blues', 'NNS'), (\"''\", \"''\"), ('.', '.'), ('Group', 'NNP'), ('heard', 'VBD'), ('here', 'RB'), ('in', 'IN'), ('a', 'DT'), ('hit', 'NN'), ('from', 'IN'), ('the', 'DT'), (\"'80s\", 'NNS'), (':', ':'), ('.', '.'), ('The', 'DT'), ('Moody', 'NNP'), ('Blues', 'NNP'), ('(', '('), ('``', '``'), ('Gemini', 'NNP'), ('Dreams', 'NNP'), (\"''\", \"''\"), (')', ')')]}, {'id': 223055, 'clue': 'Like the legislature of Great Britain, a group of owls is called this', 'answer': 'a parliament', 'name': \"IT'S A GROUP THING\", 'text': ['group', 'thing', 'Like', 'legislature', 'Great', 'Britain', 'group', 'owls', 'called', 'parliament', 'Great Britain'], 'tokenized': [('it', 'PRP'), (\"'s\", 'VBZ'), ('a', 'DT'), ('group', 'NN'), ('thing', 'NN'), ('.', '.'), ('Like', 'IN'), ('the', 'DT'), ('legislature', 'NN'), ('of', 'IN'), ('Great', 'NNP'), ('Britain', 'NNP'), (',', ','), ('a', 'DT'), ('group', 'NN'), ('of', 'IN'), ('owls', 'NN'), ('is', 'VBZ'), ('called', 'VBN'), ('this', 'DT'), ('.', '.'), ('a', 'DT'), ('parliament', 'NN')]}, {'id': 271357, 'clue': '(Wolf Blitzer delivers the clue.) Don\\'t try to talk to me when this group that includes Fergie & will.i.am is singing \"I Gotta Feeling\" in my ears', 'answer': 'The Black Eyed Peas', 'name': \"WHAT'S ON YOUR iPOD?\", 'text': ['ipod', 'Wolf', 'Blitzer', 'delivers', 'clue', \"n't\", 'try', 'talk', 'group', 'includes', 'Fergie', 'will.i.am', 'singing', 'Got', 'ta', 'Feeling', 'ears', 'Black', 'Eyed', 'Peas', 'Wolf Blitzer', 'Fergie', 'Feeling', 'Black Eyed Peas'], 'tokenized': [('what', 'WP'), (\"'s\", 'VBZ'), ('on', 'IN'), ('your', 'PRP$'), ('ipod', 'NN'), ('?', '.'), ('.', '.'), ('(', '('), ('Wolf', 'NNP'), ('Blitzer', 'NNP'), ('delivers', 'VBZ'), ('the', 'DT'), ('clue', 'NN'), ('.', '.'), (')', ')'), ('Do', 'VBP'), (\"n't\", 'RB'), ('try', 'VB'), ('to', 'TO'), ('talk', 'VB'), ('to', 'TO'), ('me', 'PRP'), ('when', 'WRB'), ('this', 'DT'), ('group', 'NN'), ('that', 'WDT'), ('includes', 'VBZ'), ('Fergie', 'NNP'), ('&', 'CC'), ('will.i.am', 'NN'), ('is', 'VBZ'), ('singing', 'VBG'), ('``', '``'), ('I', 'PRP'), ('Got', 'VBD'), ('ta', 'JJ'), ('Feeling', 'NNP'), (\"''\", \"''\"), ('in', 'IN'), ('my', 'PRP$'), ('ears', 'NNS'), ('.', '.'), ('The', 'DT'), ('Black', 'NNP'), ('Eyed', 'NNP'), ('Peas', 'NNP')]}, {'id': 248336, 'clue': 'A group of news reporters, or to make smooth by ironing', 'answer': 'press', 'name': 'DOUBLE LETTER, DOUBLE MEANING', 'text': ['double', 'letter', 'double', 'meaning', 'group', 'news', 'reporters', 'make', 'smooth', 'ironing', 'press'], 'tokenized': [('double', 'JJ'), ('letter', 'NN'), (',', ','), ('double', 'JJ'), ('meaning', 'NN'), ('.', '.'), ('A', 'DT'), ('group', 'NN'), ('of', 'IN'), ('news', 'NN'), ('reporters', 'NNS'), (',', ','), ('or', 'CC'), ('to', 'TO'), ('make', 'VB'), ('smooth', 'JJ'), ('by', 'IN'), ('ironing', 'VBG'), ('.', '.'), ('press', 'NN')]}, {'id': 271602, 'clue': 'This \"Up All Night\" British boy band chose its name because it would sound good when announced on \"The X Factor\"', 'answer': 'One Direction', 'name': 'ROCK GROUP NAMES', 'text': ['rock', 'group', 'names', 'Night', 'British', 'boy', 'band', 'chose', 'name', 'sound', 'good', 'announced', 'X', 'Factor', 'One', 'Direction', 'Night', 'British', 'X Factor'], 'tokenized': [('rock', 'NN'), ('group', 'NN'), ('names', 'RB'), ('.', '.'), ('This', 'DT'), ('``', '``'), ('Up', 'NNP'), ('All', 'DT'), ('Night', 'NNP'), (\"''\", \"''\"), ('British', 'NNP'), ('boy', 'VBD'), ('band', 'NN'), ('chose', 'VB'), ('its', 'PRP$'), ('name', 'NN'), ('because', 'IN'), ('it', 'PRP'), ('would', 'MD'), ('sound', 'VB'), ('good', 'JJ'), ('when', 'WRB'), ('announced', 'VBN'), ('on', 'IN'), ('``', '``'), ('The', 'DT'), ('X', 'NNP'), ('Factor', 'NNP'), (\"''\", \"''\"), ('.', '.'), ('One', 'CD'), ('Direction', 'NN')]}, {'id': 182743, 'clue': 'Sometimes these goddesses of destiny are identified as Clotho, Lachesis & Atropos', 'answer': 'the Fates', 'name': \"IT'S A GROUP THING\", 'text': ['group', 'thing', 'Sometimes', 'goddesses', 'destiny', 'identified', 'Clotho', 'Lachesis', 'Atropos', 'Fates', 'Clotho', 'Lachesis', 'Atropos'], 'tokenized': [('it', 'PRP'), (\"'s\", 'VBZ'), ('a', 'DT'), ('group', 'NN'), ('thing', 'NN'), ('.', '.'), ('Sometimes', 'RB'), ('these', 'DT'), ('goddesses', 'NNS'), ('of', 'IN'), ('destiny', 'NN'), ('are', 'VBP'), ('identified', 'VBN'), ('as', 'IN'), ('Clotho', 'NNP'), (',', ','), ('Lachesis', 'NNP'), ('&', 'CC'), ('Atropos', 'NNP'), ('.', '.'), ('the', 'DT'), ('Fates', 'NNS')]}, {'id': 23161, 'clue': 'Group heard here singing the first No. 1 hit of the year:\"Nobody gets too much heaven no more, it\\'s as high...\"', 'answer': 'The Bee Gees', 'name': '1979', 'text': ['1979', 'Group', 'heard', 'singing', 'first', '1', 'hit', 'year', 'Nobody', 'gets', 'much', 'heaven', 'high', 'Bee', 'Gees', 'Group', 'Bee Gees'], 'tokenized': [('1979', 'CD'), ('.', '.'), ('Group', 'NNP'), ('heard', 'VBD'), ('here', 'RB'), ('singing', 'VBG'), ('the', 'DT'), ('first', 'JJ'), ('No', 'NNP'), ('.', '.'), ('1', 'CD'), ('hit', 'NN'), ('of', 'IN'), ('the', 'DT'), ('year', 'NN'), (':', ':'), (\"''\", \"''\"), ('Nobody', 'NN'), ('gets', 'VBZ'), ('too', 'RB'), ('much', 'JJ'), ('heaven', 'JJR'), ('no', 'DT'), ('more', 'RBR'), (',', ','), ('it', 'PRP'), (\"'s\", 'VBZ'), ('as', 'RB'), ('high', 'JJ'), ('...', ':'), (\"''\", \"''\"), ('.', '.'), ('The', 'DT'), ('Bee', 'NNP'), ('Gees', 'NNP')]}, {'id': 177737, 'clue': 'A dissenting minority within a larger group', 'answer': 'a faction', 'name': 'THE \"FAC\"s OF LIFE', 'text': ['fac', 'life', 'dissenting', 'minority', 'within', 'larger', 'group', 'faction'], 'tokenized': [('the', 'DT'), ('``', '``'), ('fac', 'NN'), (\"''\", \"''\"), ('s', 'NN'), ('of', 'IN'), ('life', 'NN'), ('.', '.'), ('A', 'DT'), ('dissenting', 'JJ'), ('minority', 'NN'), ('within', 'IN'), ('a', 'DT'), ('larger', 'JJR'), ('group', 'NN'), ('.', '.'), ('a', 'DT'), ('faction', 'NN')]}, {'id': 262690, 'clue': 'These 2 groups named for elder siblings, both formed to mentor youth, joined up in 1977', 'answer': 'Big Brothers and Big Sisters', 'name': 'ORGANIZATIONS', 'text': ['organizations', '2', 'groups', 'named', 'elder', 'siblings', 'formed', 'mentor', 'youth', 'joined', '1977', 'Big', 'Brothers', 'Big', 'Sisters', 'Big Brothers', 'Big'], 'tokenized': [('organizations', 'NNS'), ('.', '.'), ('These', 'DT'), ('2', 'CD'), ('groups', 'NNS'), ('named', 'VBN'), ('for', 'IN'), ('elder', 'JJR'), ('siblings', 'NNS'), (',', ','), ('both', 'DT'), ('formed', 'VBN'), ('to', 'TO'), ('mentor', 'VB'), ('youth', 'NN'), (',', ','), ('joined', 'VBD'), ('up', 'RP'), ('in', 'IN'), ('1977', 'CD'), ('.', '.'), ('Big', 'NNP'), ('Brothers', 'NNPS'), ('and', 'CC'), ('Big', 'NNP'), ('Sisters', 'NNS')]}, {'id': 181740, 'clue': 'Fitting name of a unit between group & division, like the 509th Bomb one or 349th Air Mobility one', 'answer': 'a wing', 'name': 'I NEED A VACATION', 'text': ['need', 'vacation', 'Fitting', 'name', 'unit', 'group', 'division', 'like', '509th', 'Bomb', 'one', '349th', 'Air', 'Mobility', 'one', 'wing', 'Bomb', 'Air Mobility'], 'tokenized': [('i', 'NNS'), ('need', 'VBP'), ('a', 'DT'), ('vacation', 'NN'), ('.', '.'), ('Fitting', 'VBG'), ('name', 'NN'), ('of', 'IN'), ('a', 'DT'), ('unit', 'NN'), ('between', 'IN'), ('group', 'NN'), ('&', 'CC'), ('division', 'NN'), (',', ','), ('like', 'IN'), ('the', 'DT'), ('509th', 'CD'), ('Bomb', 'NNP'), ('one', 'CD'), ('or', 'CC'), ('349th', 'CD'), ('Air', 'NNP'), ('Mobility', 'NNP'), ('one', 'NN'), ('.', '.'), ('a', 'DT'), ('wing', 'NN')]}, {'id': 95363, 'clue': '1721 group of works that includes the following:', 'answer': '\"Brandenburg Concertos\"', 'name': '3-LETTER WORDS', 'text': ['3-letter', 'words', '1721', 'group', 'works', 'includes', 'following', 'Brandenburg', 'Concertos', 'Brandenburg Concertos'], 'tokenized': [('3-letter', 'JJ'), ('words', 'NNS'), ('.', '.'), ('1721', 'CD'), ('group', 'NN'), ('of', 'IN'), ('works', 'NNS'), ('that', 'WDT'), ('includes', 'VBZ'), ('the', 'DT'), ('following', 'NN'), (':', ':'), ('.', '.'), ('``', '``'), ('Brandenburg', 'NNP'), ('Concertos', 'NNP'), (\"''\", \"''\")]}, {'id': 313717, 'clue': 'Before winging it on their own, Glen Frey, Don Henley & other Eagles bandmates were often her backup group', 'answer': 'Linda Ronstadt', 'name': 'THE EAGLES', 'text': ['eagles', 'winging', 'Glen', 'Frey', 'Don', 'Henley', 'Eagles', 'bandmates', 'often', 'backup', 'group', 'Linda', 'Ronstadt', 'Glen Frey', 'Don Henley', 'Linda Ronstadt'], 'tokenized': [('the', 'DT'), ('eagles', 'NNS'), ('.', '.'), ('Before', 'IN'), ('winging', 'VBG'), ('it', 'PRP'), ('on', 'IN'), ('their', 'PRP$'), ('own', 'JJ'), (',', ','), ('Glen', 'NNP'), ('Frey', 'NNP'), (',', ','), ('Don', 'NNP'), ('Henley', 'NNP'), ('&', 'CC'), ('other', 'JJ'), ('Eagles', 'NNS'), ('bandmates', 'NNS'), ('were', 'VBD'), ('often', 'RB'), ('her', 'PRP$'), ('backup', 'NN'), ('group', 'NN'), ('.', '.'), ('Linda', 'NNP'), ('Ronstadt', 'NNP')]}, {'id': 335523, 'clue': 'On \"Undercover Boss\", a CEO worked at this convenience store & learned firsthand about customer service', 'answer': '7-Eleven', 'name': 'IN A GROUP', 'text': ['group', 'Undercover', 'Boss', 'CEO', 'worked', 'convenience', 'store', 'learned', 'firsthand', 'customer', 'service', '7-Eleven', 'Undercover Boss'], 'tokenized': [('in', 'IN'), ('a', 'DT'), ('group', 'NN'), ('.', '.'), ('On', 'IN'), ('``', '``'), ('Undercover', 'NNP'), ('Boss', 'NNP'), (\"''\", \"''\"), (',', ','), ('a', 'DT'), ('CEO', 'NN'), ('worked', 'VBN'), ('at', 'IN'), ('this', 'DT'), ('convenience', 'NN'), ('store', 'NN'), ('&', 'CC'), ('learned', 'VBN'), ('firsthand', 'NN'), ('about', 'IN'), ('customer', 'NN'), ('service', 'NN'), ('.', '.'), ('7-Eleven', 'JJ')]}, {'id': 113645, 'clue': '18 down:Math groups(4)', 'answer': 'Sets', 'name': 'IT\\'S A \"DOG\"s LIFE', 'text': ['dog', 'life', '18', 'Math', 'groups', '4', 'Sets'], 'tokenized': [('it', 'PRP'), (\"'s\", 'VBZ'), ('a', 'DT'), ('``', '``'), ('dog', 'NN'), (\"''\", \"''\"), ('s', 'JJ'), ('life', 'NN'), ('.', '.'), ('18', 'CD'), ('down', 'IN'), (':', ':'), ('Math', 'NN'), ('groups', 'NNS'), ('(', '('), ('4', 'CD'), (')', ')'), ('.', '.'), ('Sets', 'NNS')]}, {'id': 157144, 'clue': 'This group that sings of \"Stacy\\'s Mom\" is named for a New Jersey lawn ornament store', 'answer': 'Fountains of Wayne', 'name': 'COLLEGES & UNIVERSITIES', 'text': ['colleges', 'universities', 'group', 'sings', 'Stacy', 'Mom', 'named', 'New', 'Jersey', 'lawn', 'ornament', 'store', 'Fountains', 'Wayne', 'Stacy', 'Mom', 'New Jersey', 'Wayne'], 'tokenized': [('colleges', 'NNS'), ('&', 'CC'), ('universities', 'NNS'), ('.', '.'), ('This', 'DT'), ('group', 'NN'), ('that', 'WDT'), ('sings', 'VBZ'), ('of', 'IN'), ('``', '``'), ('Stacy', 'NNP'), (\"'s\", 'POS'), ('Mom', 'NNP'), (\"''\", \"''\"), ('is', 'VBZ'), ('named', 'VBN'), ('for', 'IN'), ('a', 'DT'), ('New', 'NNP'), ('Jersey', 'NNP'), ('lawn', 'NN'), ('ornament', 'NN'), ('store', 'NN'), ('.', '.'), ('Fountains', 'NNS'), ('of', 'IN'), ('Wayne', 'NNP')]}, {'id': 133609, 'clue': 'A 1977 Grammy winner for Album of the Year, this Fleetwood Mac LP produced the group\\'s first No. 1 single, \"Dreams\"', 'answer': '\"Rumours\"', 'name': 'PLAY', 'text': ['play', '1977', 'Grammy', 'winner', 'Album', 'Year', 'Fleetwood', 'Mac', 'LP', 'produced', 'group', 'first', '1', 'single', 'Dreams', 'Rumours', 'Grammy', 'Album', 'Fleetwood Mac LP', 'Dreams', 'Rumours'], 'tokenized': [('play', 'NN'), ('.', '.'), ('A', 'DT'), ('1977', 'CD'), ('Grammy', 'NNP'), ('winner', 'NN'), ('for', 'IN'), ('Album', 'NNP'), ('of', 'IN'), ('the', 'DT'), ('Year', 'NN'), (',', ','), ('this', 'DT'), ('Fleetwood', 'NNP'), ('Mac', 'NNP'), ('LP', 'NNP'), ('produced', 'VBD'), ('the', 'DT'), ('group', 'NN'), (\"'s\", 'POS'), ('first', 'JJ'), ('No', 'NNP'), ('.', '.'), ('1', 'CD'), ('single', 'JJ'), (',', ','), ('``', '``'), ('Dreams', 'NNP'), (\"''\", \"''\"), ('.', '.'), ('``', '``'), ('Rumours', 'NNP'), (\"''\", \"''\")]}, {'id': 179890, 'clue': \"New Zealand's ethnicity is about 70% European & 8% this native group\", 'answer': 'Maori', 'name': 'ETHNIC GROUPS', 'text': ['ethnic', 'groups', 'New', 'Zealand', 'ethnicity', '70', 'European', '8', 'native', 'group', 'Maori', 'New Zealand', 'European', 'Maori'], 'tokenized': [('ethnic', 'JJ'), ('groups', 'NNS'), ('.', '.'), ('New', 'NNP'), ('Zealand', 'NNP'), (\"'s\", 'POS'), ('ethnicity', 'NN'), ('is', 'VBZ'), ('about', 'IN'), ('70', 'CD'), ('%', 'NN'), ('European', 'NNP'), ('&', 'CC'), ('8', 'CD'), ('%', 'NN'), ('this', 'DT'), ('native', 'JJ'), ('group', 'NN'), ('.', '.'), ('Maori', 'NNP')]}, {'id': 200277, 'clue': 'The phoenix, thunderbird, mermaid, minotaur & butterfly are the symbols for this group\\'s \"Mystic Force\"', 'answer': 'the Power Rangers', 'name': \"KID'S TOUGH\", 'text': ['kid', 'tough', 'phoenix', 'thunderbird', 'mermaid', 'minotaur', 'butterfly', 'symbols', 'group', 'Mystic', 'Force', 'Power', 'Rangers', 'Mystic Force', 'Rangers'], 'tokenized': [('kid', 'NN'), (\"'s\", 'POS'), ('tough', 'JJ'), ('.', '.'), ('The', 'DT'), ('phoenix', 'NN'), (',', ','), ('thunderbird', 'NN'), (',', ','), ('mermaid', 'NN'), (',', ','), ('minotaur', 'NN'), ('&', 'CC'), ('butterfly', 'NN'), ('are', 'VBP'), ('the', 'DT'), ('symbols', 'NNS'), ('for', 'IN'), ('this', 'DT'), ('group', 'NN'), (\"'s\", 'POS'), ('``', '``'), ('Mystic', 'NNP'), ('Force', 'NNP'), (\"''\", \"''\"), ('.', '.'), ('the', 'DT'), ('Power', 'NN'), ('Rangers', 'NNP')]}, {'id': 94259, 'clue': '\"Les chatiments\" is a group of satirical poems attacking Napoleon III by this creator of Quasimodo', 'answer': 'Victor Hugo', 'name': 'THE BIBLE', 'text': ['bible', 'Les', 'chatiments', 'group', 'satirical', 'poems', 'attacking', 'Napoleon', 'III', 'creator', 'Quasimodo', 'Victor', 'Hugo', 'Napoleon III', 'Quasimodo', 'Victor Hugo'], 'tokenized': [('the', 'DT'), ('bible', 'JJ'), ('.', '.'), ('``', '``'), ('Les', 'JJ'), ('chatiments', 'NNS'), (\"''\", \"''\"), ('is', 'VBZ'), ('a', 'DT'), ('group', 'NN'), ('of', 'IN'), ('satirical', 'JJ'), ('poems', 'NNS'), ('attacking', 'VBG'), ('Napoleon', 'NNP'), ('III', 'NNP'), ('by', 'IN'), ('this', 'DT'), ('creator', 'NN'), ('of', 'IN'), ('Quasimodo', 'NNP'), ('.', '.'), ('Victor', 'NNP'), ('Hugo', 'NNP')]}, {'id': 23812, 'clue': 'A bland candy, or a \\'60s rock group who hit the charts with \"You Keep Me Hangin\\' On\"', 'answer': 'Vanilla Fudge', 'name': \"ROCK 'N ROLL EDIBLES\", 'text': ['rock', 'n', 'roll', 'edibles', 'bland', 'candy', '60s', 'rock', 'group', 'hit', 'charts', 'Keep', 'Hangin', 'Vanilla', 'Fudge', 'Me Hangin', 'Vanilla Fudge'], 'tokenized': [('rock', 'NN'), (\"'n\", \"''\"), ('roll', 'NN'), ('edibles', 'NNS'), ('.', '.'), ('A', 'DT'), ('bland', 'NN'), ('candy', 'NN'), (',', ','), ('or', 'CC'), ('a', 'DT'), (\"'60s\", 'JJ'), ('rock', 'NN'), ('group', 'NN'), ('who', 'WP'), ('hit', 'VBD'), ('the', 'DT'), ('charts', 'NNS'), ('with', 'IN'), ('``', '``'), ('You', 'PRP'), ('Keep', 'VBP'), ('Me', 'NNP'), ('Hangin', 'NNP'), (\"'\", 'POS'), ('On', 'IN'), (\"''\", \"''\"), ('.', '.'), ('Vanilla', 'NNP'), ('Fudge', 'NNP')]}, {'id': 87111, 'clue': 'They took L.A. tile setter Simon Rodia over 30 years to create', 'answer': 'Watts Towers', 'name': \"IT'S A GROUP THING\", 'text': ['group', 'thing', 'took', 'L.A', 'tile', 'setter', 'Simon', 'Rodia', '30', 'years', 'create', 'Watts', 'Towers', 'L.A', 'Simon Rodia', 'Watts Towers'], 'tokenized': [('it', 'PRP'), (\"'s\", 'VBZ'), ('a', 'DT'), ('group', 'NN'), ('thing', 'NN'), ('.', '.'), ('They', 'PRP'), ('took', 'VBD'), ('L.A.', 'NNP'), ('tile', 'NN'), ('setter', 'NN'), ('Simon', 'NNP'), ('Rodia', 'NNP'), ('over', 'IN'), ('30', 'CD'), ('years', 'NNS'), ('to', 'TO'), ('create', 'VB'), ('.', '.'), ('Watts', 'NNP'), ('Towers', 'NNPS')]}, {'id': 110965, 'clue': 'In 2000 the \"original\" lineup of this group went on tour -- they\\'ve still \"got the beat\"', 'answer': \"The Go-Go's\", 'name': 'ROCK \"G\"ROUPS', 'text': ['rock', 'g', 'roups', '2000', 'original', 'lineup', 'group', 'went', 'tour', 've', 'still', 'got', 'beat', 'Go-Go', 'Go-Go'], 'tokenized': [('rock', 'NN'), ('``', '``'), ('g', 'NN'), (\"''\", \"''\"), ('roups', 'NNS'), ('.', '.'), ('In', 'IN'), ('2000', 'CD'), ('the', 'DT'), ('``', '``'), ('original', 'JJ'), (\"''\", \"''\"), ('lineup', 'NN'), ('of', 'IN'), ('this', 'DT'), ('group', 'NN'), ('went', 'VBD'), ('on', 'IN'), ('tour', 'NN'), ('--', ':'), ('they', 'PRP'), (\"'ve\", 'VBP'), ('still', 'RB'), ('``', '``'), ('got', 'VBD'), ('the', 'DT'), ('beat', 'NN'), (\"''\", \"''\"), ('.', '.'), ('The', 'DT'), ('Go-Go', 'NNP'), (\"'s\", 'POS')]}, {'id': 149745, 'clue': 'Proverbially, \"Straighten up\" & do this', 'answer': 'fly right', 'name': 'GROUPS', 'text': ['groups', 'Proverbially', 'Straighten', 'fly', 'right', 'Proverbially'], 'tokenized': [('groups', 'NNS'), ('.', '.'), ('Proverbially', 'NNP'), (',', ','), ('``', '``'), ('Straighten', 'VB'), ('up', 'RP'), (\"''\", \"''\"), ('&', 'CC'), ('do', 'VB'), ('this', 'DT'), ('.', '.'), ('fly', 'VB'), ('right', 'JJ')]}, {'id': 330523, 'clue': 'Wisdom form this group: \"Money, it\\'s a gas. Grab that cash with both hands and make a stash\"', 'answer': 'Pink Floyd', 'name': 'BOOKS FOR COOKS', 'text': ['books', 'cooks', 'Wisdom', 'form', 'group', 'Money', 'gas', 'Grab', 'cash', 'hands', 'make', 'stash', 'Pink', 'Floyd', 'Wisdom', 'Pink Floyd'], 'tokenized': [('books', 'NNS'), ('for', 'IN'), ('cooks', 'NN'), ('.', '.'), ('Wisdom', 'NNP'), ('form', 'NN'), ('this', 'DT'), ('group', 'NN'), (':', ':'), ('``', '``'), ('Money', 'NN'), (',', ','), ('it', 'PRP'), (\"'s\", 'VBZ'), ('a', 'DT'), ('gas', 'NN'), ('.', '.'), ('Grab', 'VB'), ('that', 'IN'), ('cash', 'NN'), ('with', 'IN'), ('both', 'DT'), ('hands', 'NNS'), ('and', 'CC'), ('make', 'VB'), ('a', 'DT'), ('stash', 'NN'), (\"''\", \"''\"), ('.', '.'), ('Pink', 'NNP'), ('Floyd', 'NNP')]}, {'id': 118277, 'clue': 'Ivan the Great made the great decision to gain independence from this group known as the Golden Horde', 'answer': 'the Mongols', 'name': 'HISTORY', 'text': ['history', 'Ivan', 'Great', 'made', 'great', 'decision', 'gain', 'independence', 'group', 'known', 'Golden', 'Horde', 'Mongols', 'Great', 'Golden Horde', 'Mongols'], 'tokenized': [('history', 'NN'), ('.', '.'), ('Ivan', 'VBZ'), ('the', 'DT'), ('Great', 'NNP'), ('made', 'VBD'), ('the', 'DT'), ('great', 'JJ'), ('decision', 'NN'), ('to', 'TO'), ('gain', 'VB'), ('independence', 'NN'), ('from', 'IN'), ('this', 'DT'), ('group', 'NN'), ('known', 'VBN'), ('as', 'IN'), ('the', 'DT'), ('Golden', 'NNP'), ('Horde', 'NNP'), ('.', '.'), ('the', 'DT'), ('Mongols', 'NNP')]}, {'id': 292268, 'clue': 'Annie Glenn, Rene Carpenter & Trudy Cooper are 3 of a title group: the \"club\" of these men\\'s wives', 'answer': \"astronauts' wives\", 'name': 'NONFICTION', 'text': ['nonfiction', 'Annie', 'Glenn', 'Rene', 'Carpenter', 'Trudy', 'Cooper', '3', 'title', 'group', 'club', 'men', 'wives', 'astronauts', 'wives', 'Annie Glenn', 'Rene Carpenter', 'Trudy Cooper'], 'tokenized': [('nonfiction', 'NN'), ('.', '.'), ('Annie', 'NNP'), ('Glenn', 'NNP'), (',', ','), ('Rene', 'NNP'), ('Carpenter', 'NNP'), ('&', 'CC'), ('Trudy', 'NNP'), ('Cooper', 'NNP'), ('are', 'VBP'), ('3', 'CD'), ('of', 'IN'), ('a', 'DT'), ('title', 'NN'), ('group', 'NN'), (':', ':'), ('the', 'DT'), ('``', '``'), ('club', 'NN'), (\"''\", \"''\"), ('of', 'IN'), ('these', 'DT'), ('men', 'NNS'), (\"'s\", 'POS'), ('wives', 'NNS'), ('.', '.'), ('astronauts', 'NNS'), (\"'\", 'POS'), ('wives', 'NNS')]}, {'id': 26457, 'clue': 'The Bloomsbury Group often met at the London home of this author of \"To the Lighthouse\"', 'answer': 'Virginia Woolf', 'name': 'POTPOURRI', 'text': ['potpourri', 'Bloomsbury', 'Group', 'often', 'met', 'London', 'home', 'author', 'Lighthouse', 'Virginia', 'Woolf', 'Bloomsbury Group', 'London', 'Lighthouse', 'Virginia Woolf'], 'tokenized': [('potpourri', 'NN'), ('.', '.'), ('The', 'DT'), ('Bloomsbury', 'NNP'), ('Group', 'NNP'), ('often', 'RB'), ('met', 'VBD'), ('at', 'IN'), ('the', 'DT'), ('London', 'NNP'), ('home', 'NN'), ('of', 'IN'), ('this', 'DT'), ('author', 'NN'), ('of', 'IN'), ('``', '``'), ('To', 'TO'), ('the', 'DT'), ('Lighthouse', 'NNP'), (\"''\", \"''\"), ('.', '.'), ('Virginia', 'NNP'), ('Woolf', 'NNP')]}, {'id': 69416, 'clue': \"Mike D, Ad-Rock & MCA of this rap group hosted 1996's Tibetan Freedom Concert in San Francisco\", 'answer': 'The Beastie Boys', 'name': 'LANGUAGES', 'text': ['languages', 'Mike', 'D', 'Ad-Rock', 'MCA', 'rap', 'group', 'hosted', '1996', 'Tibetan', 'Freedom', 'Concert', 'San', 'Francisco', 'Beastie', 'Boys', 'Mike D', 'Ad-Rock', 'MCA', 'Tibetan Freedom Concert', 'San Francisco', 'Beastie Boys'], 'tokenized': [('languages', 'NNS'), ('.', '.'), ('Mike', 'NNP'), ('D', 'NNP'), (',', ','), ('Ad-Rock', 'NNP'), ('&', 'CC'), ('MCA', 'NNP'), ('of', 'IN'), ('this', 'DT'), ('rap', 'NN'), ('group', 'NN'), ('hosted', 'VBD'), ('1996', 'CD'), (\"'s\", 'POS'), ('Tibetan', 'NNP'), ('Freedom', 'NNP'), ('Concert', 'NNP'), ('in', 'IN'), ('San', 'NNP'), ('Francisco', 'NNP'), ('.', '.'), ('The', 'DT'), ('Beastie', 'NNP'), ('Boys', 'NNP')]}, {'id': 207134, 'clue': 'Jason led this famous group of sailors', 'answer': 'the Argonauts', 'name': '\"ARG\"!', 'text': ['arg', 'Jason', 'led', 'famous', 'group', 'sailors', 'Argonauts', 'Jason', 'Argonauts'], 'tokenized': [('``', '``'), ('arg', 'NN'), (\"''\", \"''\"), ('!', '.'), ('.', '.'), ('Jason', 'NNP'), ('led', 'VBD'), ('this', 'DT'), ('famous', 'JJ'), ('group', 'NN'), ('of', 'IN'), ('sailors', 'NNS'), ('.', '.'), ('the', 'DT'), ('Argonauts', 'NNP')]}, {'id': 16174, 'clue': \"Bacon bits & fat are typically substituted for mayonnaise in this ethnic group's potato salad\", 'answer': 'German', 'name': 'MOUNTAINS', 'text': ['mountains', 'Bacon', 'bits', 'fat', 'typically', 'substituted', 'mayonnaise', 'ethnic', 'group', 'potato', 'salad', 'German', 'Bacon'], 'tokenized': [('mountains', 'NNS'), ('.', '.'), ('Bacon', 'NNP'), ('bits', 'VBZ'), ('&', 'CC'), ('fat', 'NN'), ('are', 'VBP'), ('typically', 'RB'), ('substituted', 'VBN'), ('for', 'IN'), ('mayonnaise', 'NN'), ('in', 'IN'), ('this', 'DT'), ('ethnic', 'JJ'), ('group', 'NN'), (\"'s\", 'POS'), ('potato', 'NN'), ('salad', 'NN'), ('.', '.'), ('German', 'JJ')]}, {'id': 308456, 'clue': 'Scone or Rosetta;a Jewish house of worship;Chuck Yeager & the Red Baron', 'answer': 'Stone Temple Pilots', 'name': 'NOT A POP GROUP, YET A POP GROUP', 'text': ['pop', 'group', 'yet', 'pop', 'group', 'Scone', 'Rosetta', 'Jewish', 'house', 'worship', 'Chuck', 'Yeager', 'Red', 'Baron', 'Stone', 'Temple', 'Pilots', 'Rosetta', 'Chuck Yeager', 'Red Baron', 'Stone Temple Pilots'], 'tokenized': [('not', 'RB'), ('a', 'DT'), ('pop', 'NN'), ('group', 'NN'), (',', ','), ('yet', 'RB'), ('a', 'DT'), ('pop', 'NN'), ('group', 'NN'), ('.', '.'), ('Scone', 'CD'), ('or', 'CC'), ('Rosetta', 'NNP'), (';', ':'), ('a', 'DT'), ('Jewish', 'JJ'), ('house', 'NN'), ('of', 'IN'), ('worship', 'NN'), (';', ':'), ('Chuck', 'NNP'), ('Yeager', 'NNP'), ('&', 'CC'), ('the', 'DT'), ('Red', 'NNP'), ('Baron', 'NNP'), ('.', '.'), ('Stone', 'NNP'), ('Temple', 'NNP'), ('Pilots', 'NNP')]}, {'id': 131318, 'clue': 'One of the original members of this group was Bryn Mawr', 'answer': 'the Seven Sisters', 'name': '\"SEVEN\" ON YOUR SIDE', 'text': ['seven', 'side', 'One', 'original', 'members', 'group', 'Bryn', 'Mawr', 'Seven', 'Sisters', 'Bryn Mawr', 'Seven'], 'tokenized': [('``', '``'), ('seven', 'CD'), (\"''\", \"''\"), ('on', 'IN'), ('your', 'PRP$'), ('side', 'NN'), ('.', '.'), ('One', 'CD'), ('of', 'IN'), ('the', 'DT'), ('original', 'JJ'), ('members', 'NNS'), ('of', 'IN'), ('this', 'DT'), ('group', 'NN'), ('was', 'VBD'), ('Bryn', 'NNP'), ('Mawr', 'NNP'), ('.', '.'), ('the', 'DT'), ('Seven', 'NNP'), ('Sisters', 'NNS')]}, {'id': 58750, 'clue': \"This man's Chicago-based Rainbow/PUSH action network is a merger of 2 earlier political groups\", 'answer': 'Jesse Jackson', 'name': 'SAY \"JACK\"', 'text': ['say', 'jack', 'man', 'Chicago-based', 'Rainbow/PUSH', 'action', 'network', 'merger', '2', 'earlier', 'political', 'groups', 'Jesse', 'Jackson', 'Rainbow/PUSH', 'Jesse Jackson'], 'tokenized': [('say', 'VB'), ('``', '``'), ('jack', 'NN'), (\"''\", \"''\"), ('.', '.'), ('This', 'DT'), ('man', 'NN'), (\"'s\", 'POS'), ('Chicago-based', 'JJ'), ('Rainbow/PUSH', 'NNP'), ('action', 'NN'), ('network', 'NN'), ('is', 'VBZ'), ('a', 'DT'), ('merger', 'NN'), ('of', 'IN'), ('2', 'CD'), ('earlier', 'RB'), ('political', 'JJ'), ('groups', 'NNS'), ('.', '.'), ('Jesse', 'NNP'), ('Jackson', 'NNP')]}, {'id': 214917, 'clue': '\"Play with Fire\" from this Group\\'s 1965 album \"Out of Our Heads\" featured Phil Spector on bass', 'answer': 'The Rolling Stones', 'name': 'STUPID ANSWERS', 'text': ['stupid', 'answers', 'Play', 'Fire', 'Group', '1965', 'album', 'Heads', 'featured', 'Phil', 'Spector', 'bass', 'Rolling', 'Stones', 'Play', 'Fire', 'Group', 'Phil Spector', 'Rolling'], 'tokenized': [('stupid', 'JJ'), ('answers', 'NNS'), ('.', '.'), ('``', '``'), ('Play', 'NNP'), ('with', 'IN'), ('Fire', 'NNP'), (\"''\", \"''\"), ('from', 'IN'), ('this', 'DT'), ('Group', 'NNP'), (\"'s\", 'POS'), ('1965', 'CD'), ('album', 'NN'), ('``', '``'), ('Out', 'IN'), ('of', 'IN'), ('Our', 'PRP$'), ('Heads', 'NNS'), (\"''\", \"''\"), ('featured', 'VBN'), ('Phil', 'NNP'), ('Spector', 'NNP'), ('on', 'IN'), ('bass', 'NN'), ('.', '.'), ('The', 'DT'), ('Rolling', 'NNP'), ('Stones', 'NNS')]}, {'id': 155577, 'clue': 'Sadly, guitarist Joe Strummer died just months before this group of his was inducted into the Hall of Fame', 'answer': 'The Clash', 'name': '\"C\" IN ROCK', 'text': ['c', 'rock', 'Sadly', 'guitarist', 'Joe', 'Strummer', 'died', 'just', 'months', 'group', 'inducted', 'Hall', 'Fame', 'Clash', 'Joe Strummer', 'Hall', 'Fame'], 'tokenized': [('``', '``'), ('c', 'NN'), (\"''\", \"''\"), ('in', 'IN'), ('rock', 'NN'), ('.', '.'), ('Sadly', 'RB'), (',', ','), ('guitarist', 'JJ'), ('Joe', 'NNP'), ('Strummer', 'NNP'), ('died', 'VBD'), ('just', 'RB'), ('months', 'NNS'), ('before', 'IN'), ('this', 'DT'), ('group', 'NN'), ('of', 'IN'), ('his', 'PRP$'), ('was', 'VBD'), ('inducted', 'VBN'), ('into', 'IN'), ('the', 'DT'), ('Hall', 'NNP'), ('of', 'IN'), ('Fame', 'NNP'), ('.', '.'), ('The', 'DT'), ('Clash', 'NN')]}, {'id': 161085, 'clue': \"Smaller than a newspaper, it's a printed report giving news or information of interest to a special group\", 'answer': 'a newsletter', 'name': 'TANGENTIAL ETRUSCAN POTPOURRI', 'text': ['tangential', 'etruscan', 'potpourri', 'Smaller', 'newspaper', 'printed', 'report', 'giving', 'news', 'information', 'interest', 'special', 'group', 'newsletter', 'Smaller'], 'tokenized': [('tangential', 'JJ'), ('etruscan', 'JJ'), ('potpourri', 'NN'), ('.', '.'), ('Smaller', 'NNP'), ('than', 'IN'), ('a', 'DT'), ('newspaper', 'NN'), (',', ','), ('it', 'PRP'), (\"'s\", 'VBZ'), ('a', 'DT'), ('printed', 'JJ'), ('report', 'NN'), ('giving', 'VBG'), ('news', 'NN'), ('or', 'CC'), ('information', 'NN'), ('of', 'IN'), ('interest', 'NN'), ('to', 'TO'), ('a', 'DT'), ('special', 'JJ'), ('group', 'NN'), ('.', '.'), ('a', 'DT'), ('newsletter', 'NN')]}, {'id': 116336, 'clue': 'Warhol became the manager of this Lou Reed rock group in 1965 & produced their first album', 'answer': 'Velvet Underground', 'name': 'FOREWORDS', 'text': ['forewords', 'Warhol', 'became', 'manager', 'Lou', 'Reed', 'rock', 'group', '1965', 'produced', 'first', 'album', 'Velvet', 'Underground', 'Warhol', 'Lou Reed', 'Velvet'], 'tokenized': [('forewords', 'NNS'), ('.', '.'), ('Warhol', 'NNP'), ('became', 'VBD'), ('the', 'DT'), ('manager', 'NN'), ('of', 'IN'), ('this', 'DT'), ('Lou', 'NNP'), ('Reed', 'NNP'), ('rock', 'NN'), ('group', 'NN'), ('in', 'IN'), ('1965', 'CD'), ('&', 'CC'), ('produced', 'VBD'), ('their', 'PRP$'), ('first', 'JJ'), ('album', 'NN'), ('.', '.'), ('Velvet', 'NNP'), ('Underground', 'IN')]}, {'id': 90406, 'clue': \"(Hey, what's happening?  I'm Mark McGrath of Sugar Ray.  The answer is…)  While touring in 1996, we played with Johnny Rotten & this group who had reunited\", 'answer': 'the Sex Pistols', 'name': 'BEFORE COLUMBUS', 'text': ['columbus', 'Hey', 'happening', 'm', 'Mark', 'McGrath', 'Sugar', 'Ray', 'answer', 'is…', 'touring', '1996', 'played', 'Johnny', 'Rotten', 'group', 'reunited', 'Sex', 'Pistols', 'Hey', 'Mark McGrath', 'Sugar Ray', 'Johnny Rotten', 'Pistols'], 'tokenized': [('before', 'IN'), ('columbus', 'NN'), ('.', '.'), ('(', '('), ('Hey', 'NNP'), (',', ','), ('what', 'WP'), (\"'s\", 'VBZ'), ('happening', 'VBG'), ('?', '.'), ('I', 'PRP'), (\"'m\", 'VBP'), ('Mark', 'NNP'), ('McGrath', 'NNP'), ('of', 'IN'), ('Sugar', 'NNP'), ('Ray', 'NNP'), ('.', '.'), ('The', 'DT'), ('answer', 'NN'), ('is…', 'NN'), (')', ')'), ('While', 'IN'), ('touring', 'VBG'), ('in', 'IN'), ('1996', 'CD'), (',', ','), ('we', 'PRP'), ('played', 'VBD'), ('with', 'IN'), ('Johnny', 'NNP'), ('Rotten', 'NNP'), ('&', 'CC'), ('this', 'DT'), ('group', 'NN'), ('who', 'WP'), ('had', 'VBD'), ('reunited', 'VBN'), ('.', '.'), ('the', 'DT'), ('Sex', 'NN'), ('Pistols', 'NNP')]}, {'id': 286354, 'clue': '\"Onward\" this group, with music by Sullivan of Gilbert &', 'answer': 'Christian Soldiers', 'name': 'IS THERE A TV DOCTOR IN THE HOUSE?', 'text': ['tv', 'doctor', 'house', 'Onward', 'group', 'music', 'Sullivan', 'Gilbert', 'Christian', 'Soldiers', 'Onward', 'Sullivan', 'Gilbert'], 'tokenized': [('is', 'VBZ'), ('there', 'EX'), ('a', 'DT'), ('tv', 'NN'), ('doctor', 'NN'), ('in', 'IN'), ('the', 'DT'), ('house', 'NN'), ('?', '.'), ('.', '.'), ('``', '``'), ('Onward', 'NNP'), (\"''\", \"''\"), ('this', 'DT'), ('group', 'NN'), (',', ','), ('with', 'IN'), ('music', 'NN'), ('by', 'IN'), ('Sullivan', 'NNP'), ('of', 'IN'), ('Gilbert', 'NNP'), ('&', 'CC'), ('.', '.'), ('Christian', 'JJ'), ('Soldiers', 'NNS')]}, {'id': 7824, 'clue': 'Group that had its 2nd-biggest hit with the following song that made no. 2:', 'answer': 'The Coasters', 'name': \"WE'RE #2\", 'text': ['re', '2', 'Group', '2nd-biggest', 'hit', 'following', 'song', 'made', '2', 'Coasters', 'Group', 'Coasters'], 'tokenized': [('we', 'PRP'), (\"'re\", 'VBP'), ('#', '#'), ('2', 'CD'), ('.', '.'), ('Group', 'NNP'), ('that', 'WDT'), ('had', 'VBD'), ('its', 'PRP$'), ('2nd-biggest', 'JJ'), ('hit', 'NN'), ('with', 'IN'), ('the', 'DT'), ('following', 'VBG'), ('song', 'NN'), ('that', 'WDT'), ('made', 'VBD'), ('no', 'DT'), ('.', '.'), ('2', 'CD'), (':', ':'), ('.', '.'), ('The', 'DT'), ('Coasters', 'NNPS')]}, {'id': 307923, 'clue': \"Surely you're joking!  Not yet 28, he was a group leader in the theoretical division of the A-bomb push\", 'answer': 'Richard Feynman', 'name': 'THE DAWN OF THE ATOMIC AGE', 'text': ['dawn', 'atomic', 'age', 'Surely', 're', 'joking', 'yet', '28', 'group', 'leader', 'theoretical', 'division', 'A-bomb', 'push', 'Richard', 'Feynman', 'A-bomb', 'Richard Feynman'], 'tokenized': [('the', 'DT'), ('dawn', 'NN'), ('of', 'IN'), ('the', 'DT'), ('atomic', 'JJ'), ('age', 'NN'), ('.', '.'), ('Surely', 'RB'), ('you', 'PRP'), (\"'re\", 'VBP'), ('joking', 'VBG'), ('!', '.'), ('Not', 'RB'), ('yet', 'RB'), ('28', 'CD'), (',', ','), ('he', 'PRP'), ('was', 'VBD'), ('a', 'DT'), ('group', 'NN'), ('leader', 'NN'), ('in', 'IN'), ('the', 'DT'), ('theoretical', 'JJ'), ('division', 'NN'), ('of', 'IN'), ('the', 'DT'), ('A-bomb', 'NNP'), ('push', 'NN'), ('.', '.'), ('Richard', 'NNP'), ('Feynman', 'NNP')]}, {'id': 325986, 'clue': 'As one of this \"numbered\" group, John Howard Lawson went to the pokey in 1948 & was then blacklisted', 'answer': 'the Hollywood Ten', 'name': 'SEUSS SYNOPSIZES HIMSELF', 'text': ['seuss', 'synopsizes', 'one', 'numbered', 'group', 'John', 'Howard', 'Lawson', 'went', 'pokey', '1948', 'blacklisted', 'Hollywood', 'Ten', 'John Howard Lawson', 'Hollywood Ten'], 'tokenized': [('seuss', 'NN'), ('synopsizes', 'VBZ'), ('himself', 'PRP'), ('.', '.'), ('As', 'IN'), ('one', 'CD'), ('of', 'IN'), ('this', 'DT'), ('``', '``'), ('numbered', 'JJ'), (\"''\", \"''\"), ('group', 'NN'), (',', ','), ('John', 'NNP'), ('Howard', 'NNP'), ('Lawson', 'NNP'), ('went', 'VBD'), ('to', 'TO'), ('the', 'DT'), ('pokey', 'NN'), ('in', 'IN'), ('1948', 'CD'), ('&', 'CC'), ('was', 'VBD'), ('then', 'RB'), ('blacklisted', 'VBN'), ('.', '.'), ('the', 'DT'), ('Hollywood', 'NNP'), ('Ten', 'NNP')]}, {'id': 210982, 'clue': 'A narrow, exclusive group that shares an interest, perhaps like knocking their heels together', 'answer': 'a clique', 'name': \"NO, IT'S IOWA\", 'text': ['iowa', 'narrow', 'exclusive', 'group', 'shares', 'interest', 'perhaps', 'like', 'knocking', 'heels', 'together', 'clique'], 'tokenized': [('no', 'DT'), (',', ','), ('it', 'PRP'), (\"'s\", 'VBZ'), ('iowa', 'JJ'), ('.', '.'), ('A', 'DT'), ('narrow', 'JJ'), (',', ','), ('exclusive', 'JJ'), ('group', 'NN'), ('that', 'WDT'), ('shares', 'NNS'), ('an', 'DT'), ('interest', 'NN'), (',', ','), ('perhaps', 'RB'), ('like', 'IN'), ('knocking', 'VBG'), ('their', 'PRP$'), ('heels', 'NNS'), ('together', 'RB'), ('.', '.'), ('a', 'DT'), ('clique', 'NN')]}, {'id': 153923, 'clue': 'In 1968 this pop group delivered \"I\\'ve Got to Get a Message to You\"', 'answer': 'the Bee Gees', 'name': 'WEIGHTS & MEASURES', 'text': ['weights', 'measures', '1968', 'pop', 'group', 'delivered', 've', 'Got', 'Get', 'Message', 'Bee', 'Gees', 'Bee Gees'], 'tokenized': [('weights', 'NNS'), ('&', 'CC'), ('measures', 'NNS'), ('.', '.'), ('In', 'IN'), ('1968', 'CD'), ('this', 'DT'), ('pop', 'NN'), ('group', 'NN'), ('delivered', 'VBD'), ('``', '``'), ('I', 'PRP'), (\"'ve\", 'VBP'), ('Got', 'VBN'), ('to', 'TO'), ('Get', 'VB'), ('a', 'DT'), ('Message', 'NN'), ('to', 'TO'), ('You', 'PRP'), (\"''\", \"''\"), ('.', '.'), ('the', 'DT'), ('Bee', 'NNP'), ('Gees', 'NNP')]}, {'id': 229313, 'clue': 'An aid to the faithful since the 13th century, one standard version has parts arranged in groups of 1, 3 or 10', 'answer': 'the rosary', 'name': 'RELIGION', 'text': ['religion', 'aid', 'faithful', 'since', '13th', 'century', 'one', 'standard', 'version', 'parts', 'arranged', 'groups', '1', '3', '10', 'rosary'], 'tokenized': [('religion', 'NN'), ('.', '.'), ('An', 'DT'), ('aid', 'NN'), ('to', 'TO'), ('the', 'DT'), ('faithful', 'NN'), ('since', 'IN'), ('the', 'DT'), ('13th', 'JJ'), ('century', 'NN'), (',', ','), ('one', 'CD'), ('standard', 'NN'), ('version', 'NN'), ('has', 'VBZ'), ('parts', 'NNS'), ('arranged', 'VBN'), ('in', 'IN'), ('groups', 'NNS'), ('of', 'IN'), ('1', 'CD'), (',', ','), ('3', 'CD'), ('or', 'CC'), ('10.', 'CD'), ('the', 'DT'), ('rosary', 'NN')]}, {'id': 115247, 'clue': 'Group that had a 1982 No. 1 hit in the U.S. singing \"I come from a land down under\"', 'answer': 'Men at Work', 'name': 'AUSSIE ODDS & ENDS', 'text': ['aussie', 'odds', 'ends', 'Group', '1982', '1', 'hit', 'U.S', 'singing', 'come', 'land', 'Men', 'Work', 'Group', 'U.S'], 'tokenized': [('aussie', 'NN'), ('odds', 'NNS'), ('&', 'CC'), ('ends', 'NNS'), ('.', '.'), ('Group', 'NNP'), ('that', 'WDT'), ('had', 'VBD'), ('a', 'DT'), ('1982', 'CD'), ('No', 'NNP'), ('.', '.'), ('1', 'CD'), ('hit', 'NN'), ('in', 'IN'), ('the', 'DT'), ('U.S.', 'NNP'), ('singing', 'NN'), ('``', '``'), ('I', 'PRP'), ('come', 'VBP'), ('from', 'IN'), ('a', 'DT'), ('land', 'NN'), ('down', 'RP'), ('under', 'IN'), (\"''\", \"''\"), ('.', '.'), ('Men', 'NN'), ('at', 'IN'), ('Work', 'NN')]}, {'id': 5333, 'clue': 'Everyy 10 years a group travels from Britain to Reichenbach Falls in Switzerland to re-enact this', 'answer': 'where either Professor Moriarity or Sherlock Holmes went into the falls', 'name': 'SHERLOCK HOLMES', 'text': ['sherlock', 'holmes', 'Everyy', '10', 'years', 'group', 'travels', 'Britain', 'Reichenbach', 'Falls', 'Switzerland', 're-enact', 'either', 'Professor', 'Moriarity', 'Sherlock', 'Holmes', 'went', 'falls', 'Everyy', 'Britain', 'Reichenbach Falls', 'Switzerland', 'Professor Moriarity', 'Sherlock Holmes'], 'tokenized': [('sherlock', 'NN'), ('holmes', 'NNS'), ('.', '.'), ('Everyy', 'NNP'), ('10', 'CD'), ('years', 'NNS'), ('a', 'DT'), ('group', 'NN'), ('travels', 'VBZ'), ('from', 'IN'), ('Britain', 'NNP'), ('to', 'TO'), ('Reichenbach', 'NNP'), ('Falls', 'NNP'), ('in', 'IN'), ('Switzerland', 'NNP'), ('to', 'TO'), ('re-enact', 'VB'), ('this', 'DT'), ('.', '.'), ('where', 'WRB'), ('either', 'DT'), ('Professor', 'NNP'), ('Moriarity', 'NNP'), ('or', 'CC'), ('Sherlock', 'NNP'), ('Holmes', 'NNP'), ('went', 'VBD'), ('into', 'IN'), ('the', 'DT'), ('falls', 'NNS')]}]\n"
     ]
    }
   ],
   "source": [
    "print(clustered_clues[19])"
   ]
  },
  {
   "cell_type": "code",
   "execution_count": 6,
   "metadata": {},
   "outputs": [],
   "source": [
    "import pymysql\n",
    "from pymysql.err import InternalError\n",
    "\n",
    "class Database:\n",
    "    def __init__(self):\n",
    "        #Assumes port 3306\n",
    "        self.conn = pymysql.connect(host='127.0.0.1', unix_socket='/tmp/mysql.sock', user='root', passwd='root', db='mysql', charset='utf8')\n",
    "        self.cur = self.conn.cursor(pymysql.cursors.DictCursor)\n",
    "        self.cur.execute(\"USE jeopardy_app\")"
   ]
  },
  {
   "cell_type": "code",
   "execution_count": 8,
   "metadata": {},
   "outputs": [],
   "source": [
    "ngramDB = Database()"
   ]
  },
  {
   "cell_type": "code",
   "execution_count": 9,
   "metadata": {},
   "outputs": [],
   "source": [
    "def get_ngram_id(ngram, properNoun):\n",
    "    ngramDB.cur.execute('SELECT * FROM ngrams WHERE value=%s AND properNoun=%s', (str(ngram).lower(), str(properNoun)))\n",
    "    if ngramDB.cur.rowcount == 0:\n",
    "        ngramDB.cur.execute('INSERT INTO ngrams (value, properNoun) VALUES (%s, %s)', (str(ngram).lower(), str(properNoun)))\n",
    "        ngramDB.conn.commit()\n",
    "        return ngramDB.cur.lastrowid\n",
    "    else:\n",
    "        return ngramDB.cur.fetchall()[0]['id']\n",
    "\n",
    "def add_ngrams_for_question(ngram, properNoun, question_id):\n",
    "    if len(ngram) < 2:\n",
    "        return\n",
    "    ngram_id = get_ngram_id(ngram, properNoun)\n",
    "    ngramDB.cur.execute('SELECT * FROM question_ngrams WHERE question_id=%s AND ngram_id=%s', (question_id, ngram_id))\n",
    "    if ngramDB.cur.rowcount == 0:\n",
    "        ngramDB.cur.execute('INSERT INTO question_ngrams (question_id, ngram_id) VALUES(%s, %s)', (question_id, ngram_id))\n",
    "        ngramDB.conn.commit()\n",
    "        "
   ]
  },
  {
   "cell_type": "code",
   "execution_count": 148,
   "metadata": {},
   "outputs": [],
   "source": [
    "for question in questions:\n",
    "    proper_nouns = get_proper_nouns(question)\n",
    "    for proper_noun in proper_nouns:\n",
    "        add_ngrams_for_question(proper_noun, 1, question['id'])"
   ]
  },
  {
   "cell_type": "code",
   "execution_count": 10,
   "metadata": {},
   "outputs": [],
   "source": [
    "for question in questions:\n",
    "    question['tokenized'] = list(filter(filter_stop_tagged, question['tokenized']))\n",
    "    for word in question['tokenized']:\n",
    "        if word[1] not in ['NNP', 'NNPS']:\n",
    "            add_ngrams_for_question(stemmer.stem(word[0].strip(punctuation)), 0, question['id'])"
   ]
  },
  {
   "cell_type": "code",
   "execution_count": null,
   "metadata": {},
   "outputs": [],
   "source": []
  }
 ],
 "metadata": {
  "kernelspec": {
   "display_name": "Python 3",
   "language": "python",
   "name": "python3"
  },
  "language_info": {
   "codemirror_mode": {
    "name": "ipython",
    "version": 3
   },
   "file_extension": ".py",
   "mimetype": "text/x-python",
   "name": "python",
   "nbconvert_exporter": "python",
   "pygments_lexer": "ipython3",
   "version": "3.6.1"
  }
 },
 "nbformat": 4,
 "nbformat_minor": 2
}
