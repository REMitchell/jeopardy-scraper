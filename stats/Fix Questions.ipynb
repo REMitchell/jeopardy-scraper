{
 "cells": [
  {
   "cell_type": "code",
   "execution_count": 13,
   "metadata": {},
   "outputs": [],
   "source": [
    "import pymysql\n",
    "from numpy.random import choice\n",
    "from collections import defaultdict\n",
    "\n",
    "\n",
    "\n",
    "def mapCategoriesByGameId(categories):\n",
    "    catMap = defaultdict(list)\n",
    "    for category in categories:\n",
    "        catMap[category['gameId']].append(category['id'])\n",
    "    return catMap\n",
    "\n",
    "conn = pymysql.connect(host='127.0.0.1', unix_socket='/tmp/mysql.sock', user='root', passwd='root', db='mysql', charset='utf8')\n",
    "cur = conn.cursor(pymysql.cursors.DictCursor)\n",
    "cur.execute(\"USE jeopardy\")\n",
    "\n",
    "cur.execute('SELECT * FROM questions WHERE round = 2')\n",
    "questions = cur.fetchall()\n",
    "\n",
    "cur.execute('SELECT * FROM categories WHERE round = 1')\n",
    "roundOneCategories = mapCategoriesByGameId(cur.fetchall())\n",
    "\n",
    "cur.execute('SELECT * FROM categories WHERE round = 2')\n",
    "roundTwoCategories = mapCategoriesByGameId(cur.fetchall())\n",
    "\n"
   ]
  },
  {
   "cell_type": "code",
   "execution_count": 14,
   "metadata": {},
   "outputs": [
    {
     "name": "stdout",
     "output_type": "stream",
     "text": [
      "[987, 988, 989, 990, 991, 992]\n"
     ]
    }
   ],
   "source": [
    "print(roundOneCategories['3062'])"
   ]
  },
  {
   "cell_type": "code",
   "execution_count": 25,
   "metadata": {},
   "outputs": [
    {
     "name": "stdout",
     "output_type": "stream",
     "text": [
      "[1, 2, 3, 4, 5, 6]\n",
      "1\n"
     ]
    }
   ],
   "source": [
    "print(roundOneCategories['5636'])\n",
    "print(roundOneCategories['5636'].index(2))"
   ]
  },
  {
   "cell_type": "code",
   "execution_count": 33,
   "metadata": {},
   "outputs": [],
   "source": [
    "for question in questions[10:]:\n",
    "    roundOneIndex = roundOneCategories[str(question['gameId'])].index(int(question['categoryId']))\n",
    "    correctCategoryId = roundTwoCategories[str(question['gameId'])][roundOneIndex]\n",
    "    cur.execute('UPDATE questions SET categoryId = %s WHERE id = %s', (correctCategoryId, question['id']))\n",
    "    conn.commit()"
   ]
  },
  {
   "cell_type": "code",
   "execution_count": null,
   "metadata": {},
   "outputs": [],
   "source": []
  }
 ],
 "metadata": {
  "kernelspec": {
   "display_name": "Python 3",
   "language": "python",
   "name": "python3"
  },
  "language_info": {
   "codemirror_mode": {
    "name": "ipython",
    "version": 3
   },
   "file_extension": ".py",
   "mimetype": "text/x-python",
   "name": "python",
   "nbconvert_exporter": "python",
   "pygments_lexer": "ipython3",
   "version": "3.6.1"
  }
 },
 "nbformat": 4,
 "nbformat_minor": 2
}
